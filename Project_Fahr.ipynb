{
 "cells": [
  {
   "cell_type": "markdown",
   "metadata": {},
   "source": [
    "# Carbon Tax Analysis: A Difference in Differences Approach\n",
    "### Chandler Fahr"
   ]
  },
  {
   "cell_type": "markdown",
   "metadata": {},
   "source": [
    "Carbon Taxes are gaining interest countrywide as a way to mitigate the harmful effects of Co2 emissions while generating state revenue. The rules imposed fees on the emission of greenhouse gases, and some of the fees have exceeded $50,000 annually, generating millions of dollars over its existence. Several studies have shown that the tax effectively lowers emimission, but his project will seek to find other effects such as air quality.\n",
    "\n",
    "The San Francisco Bay Area implemented a carbon tax (bill AB32) in 2008 - This analysis will use a simple difference in differences design with Santa Clara county (the location of San Jose) as the treatment area and King county (the location of Seattle) as the control location, a comparable west coast metropolitan area that does not have a carbon tax."
   ]
  },
  {
   "cell_type": "markdown",
   "metadata": {},
   "source": [
    "### Carbon Emissions by Sector\n",
    "The figure below shows that energy producers and consumers are some of the largest emitters of carbon, thus this study will focus on changes in energy consumption and costs."
   ]
  },
  {
   "cell_type": "code",
   "execution_count": 122,
   "metadata": {
    "jupyter": {
     "source_hidden": true
    }
   },
   "outputs": [
    {
     "data": {
      "image/png": "[encoded data removed]",
      "text/plain": [
       "<Figure size 432x288 with 1 Axes>"
      ]
     },
     "metadata": {},
     "output_type": "display_data"
    }
   ],
   "source": [
    "labels = 'Agriculture', 'Electricity', 'Commercial & Residential', 'Transportation', 'Industry'\n",
    "sizes = [10, 27, 12, 28, 22]\n",
    "explode = (0, 0.1, 0, 0, 0)\n",
    "\n",
    "fig1, ax1 = plt.subplots()\n",
    "ax1.pie(sizes, explode=explode, labels=labels, autopct='%1.1f%%',shadow=True, startangle=90)\n",
    "ax1.axis('equal')\n",
    "\n",
    "plt.show()"
   ]
  },
  {
   "cell_type": "markdown",
   "metadata": {},
   "source": [
    "The data used is presented in part below,"
   ]
  },
  {
   "cell_type": "code",
   "execution_count": 123,
   "metadata": {
    "jupyter": {
     "source_hidden": true
    }
   },
   "outputs": [
    {
     "data": {
      "text/html": [
       "<div>\n",
       "<style scoped>\n",
       "    .dataframe tbody tr th:only-of-type {\n",
       "        vertical-align: middle;\n",
       "    }\n",
       "\n",
       "    .dataframe tbody tr th {\n",
       "        vertical-align: top;\n",
       "    }\n",
       "\n",
       "    .dataframe thead th {\n",
       "        text-align: right;\n",
       "    }\n",
       "</style>\n",
       "<table border=\"1\" class=\"dataframe\">\n",
       "  <thead>\n",
       "    <tr style=\"text-align: right;\">\n",
       "      <th></th>\n",
       "      <th>Year</th>\n",
       "      <th>county</th>\n",
       "      <th>electricity</th>\n",
       "      <th>gas</th>\n",
       "      <th>aqi</th>\n",
       "      <th>cost</th>\n",
       "      <th>treatment</th>\n",
       "      <th>post</th>\n",
       "      <th>population</th>\n",
       "    </tr>\n",
       "  </thead>\n",
       "  <tbody>\n",
       "    <tr>\n",
       "      <th>0</th>\n",
       "      <td>2003</td>\n",
       "      <td>Santa Clara</td>\n",
       "      <td>15183.038</td>\n",
       "      <td>482.424</td>\n",
       "      <td>12.06</td>\n",
       "      <td>11.78</td>\n",
       "      <td>1</td>\n",
       "      <td>0</td>\n",
       "      <td>1673000</td>\n",
       "    </tr>\n",
       "    <tr>\n",
       "      <th>1</th>\n",
       "      <td>2004</td>\n",
       "      <td>Santa Clara</td>\n",
       "      <td>15359.470</td>\n",
       "      <td>510.846</td>\n",
       "      <td>10.71</td>\n",
       "      <td>11.35</td>\n",
       "      <td>1</td>\n",
       "      <td>0</td>\n",
       "      <td>1676000</td>\n",
       "    </tr>\n",
       "    <tr>\n",
       "      <th>2</th>\n",
       "      <td>2005</td>\n",
       "      <td>Santa Clara</td>\n",
       "      <td>15566.040</td>\n",
       "      <td>462.871</td>\n",
       "      <td>10.97</td>\n",
       "      <td>11.63</td>\n",
       "      <td>1</td>\n",
       "      <td>0</td>\n",
       "      <td>1691000</td>\n",
       "    </tr>\n",
       "    <tr>\n",
       "      <th>3</th>\n",
       "      <td>2006</td>\n",
       "      <td>Santa Clara</td>\n",
       "      <td>16058.130</td>\n",
       "      <td>485.145</td>\n",
       "      <td>8.39</td>\n",
       "      <td>12.82</td>\n",
       "      <td>1</td>\n",
       "      <td>0</td>\n",
       "      <td>1709000</td>\n",
       "    </tr>\n",
       "    <tr>\n",
       "      <th>4</th>\n",
       "      <td>2007</td>\n",
       "      <td>Santa Clara</td>\n",
       "      <td>16459.770</td>\n",
       "      <td>472.156</td>\n",
       "      <td>7.95</td>\n",
       "      <td>12.80</td>\n",
       "      <td>1</td>\n",
       "      <td>0</td>\n",
       "      <td>1733000</td>\n",
       "    </tr>\n",
       "  </tbody>\n",
       "</table>\n",
       "</div>"
      ],
      "text/plain": [
       "   Year       county  electricity      gas    aqi   cost  treatment  post  \\\n",
       "0  2003  Santa Clara    15183.038  482.424  12.06  11.78          1     0   \n",
       "1  2004  Santa Clara    15359.470  510.846  10.71  11.35          1     0   \n",
       "2  2005  Santa Clara    15566.040  462.871  10.97  11.63          1     0   \n",
       "3  2006  Santa Clara    16058.130  485.145   8.39  12.82          1     0   \n",
       "4  2007  Santa Clara    16459.770  472.156   7.95  12.80          1     0   \n",
       "\n",
       "   population  \n",
       "0     1673000  \n",
       "1     1676000  \n",
       "2     1691000  \n",
       "3     1709000  \n",
       "4     1733000  "
      ]
     },
     "execution_count": 123,
     "metadata": {},
     "output_type": "execute_result"
    }
   ],
   "source": [
    "import altair as alt\n",
    "import pandas as pd\n",
    "import os\n",
    "import statsmodels.api as sm\n",
    "import matplotlib.pyplot as plt\n",
    "df = pd.read_csv(\"/Users/chandlerfahr/Desktop/Project2.csv\")\n",
    "df.head()"
   ]
  },
  {
   "cell_type": "markdown",
   "metadata": {},
   "source": [
    "# Air Quality Index"
   ]
  },
  {
   "cell_type": "markdown",
   "metadata": {},
   "source": [
    "The air quality index (AQI) is a measure of air quality/polution in a given area. Here we compare the AQI of King and Santa Clara county after the implementation of the carbon tax. Prior studies indicate a stong reduction in polutants when a carbon tax is introduced, therefore it can be assumed that air quality should see an improvement."
   ]
  },
  {
   "cell_type": "code",
   "execution_count": 87,
   "metadata": {
    "jupyter": {
     "source_hidden": true
    }
   },
   "outputs": [
    {
     "data": {
      "text/html": [
       "<table class=\"simpletable\">\n",
       "<caption>OLS Regression Results</caption>\n",
       "<tr>\n",
       "  <th>Dep. Variable:</th>           <td>aqi</td>       <th>  R-squared:         </th> <td>   0.752</td>\n",
       "</tr>\n",
       "<tr>\n",
       "  <th>Model:</th>                   <td>OLS</td>       <th>  Adj. R-squared:    </th> <td>   0.711</td>\n",
       "</tr>\n",
       "<tr>\n",
       "  <th>Method:</th>             <td>Least Squares</td>  <th>  F-statistic:       </th> <td>   18.24</td>\n",
       "</tr>\n",
       "<tr>\n",
       "  <th>Date:</th>             <td>Mon, 01 Jun 2020</td> <th>  Prob (F-statistic):</th> <td>1.08e-05</td>\n",
       "</tr>\n",
       "<tr>\n",
       "  <th>Time:</th>                 <td>19:30:23</td>     <th>  Log-Likelihood:    </th> <td> -51.637</td>\n",
       "</tr>\n",
       "<tr>\n",
       "  <th>No. Observations:</th>      <td>    22</td>      <th>  AIC:               </th> <td>   111.3</td>\n",
       "</tr>\n",
       "<tr>\n",
       "  <th>Df Residuals:</th>          <td>    18</td>      <th>  BIC:               </th> <td>   115.6</td>\n",
       "</tr>\n",
       "<tr>\n",
       "  <th>Df Model:</th>              <td>     3</td>      <th>                     </th>     <td> </td>   \n",
       "</tr>\n",
       "<tr>\n",
       "  <th>Covariance Type:</th>      <td>nonrobust</td>    <th>                     </th>     <td> </td>   \n",
       "</tr>\n",
       "</table>\n",
       "<table class=\"simpletable\">\n",
       "<tr>\n",
       "       <td></td>         <th>coef</th>     <th>std err</th>      <th>t</th>      <th>P>|t|</th>  <th>[0.025</th>    <th>0.975]</th>  \n",
       "</tr>\n",
       "<tr>\n",
       "  <th>const</th>      <td>   16.9560</td> <td>    1.251</td> <td>   13.556</td> <td> 0.000</td> <td>   14.328</td> <td>   19.584</td>\n",
       "</tr>\n",
       "<tr>\n",
       "  <th>treatment</th>  <td>   -6.9400</td> <td>    1.769</td> <td>   -3.923</td> <td> 0.001</td> <td>  -10.656</td> <td>   -3.224</td>\n",
       "</tr>\n",
       "<tr>\n",
       "  <th>post</th>       <td>  -11.7643</td> <td>    1.694</td> <td>   -6.946</td> <td> 0.000</td> <td>  -15.323</td> <td>   -8.206</td>\n",
       "</tr>\n",
       "<tr>\n",
       "  <th>treatxpost</th> <td>    8.7483</td> <td>    2.395</td> <td>    3.653</td> <td> 0.002</td> <td>    3.716</td> <td>   13.780</td>\n",
       "</tr>\n",
       "</table>\n",
       "<table class=\"simpletable\">\n",
       "<tr>\n",
       "  <th>Omnibus:</th>       <td> 0.754</td> <th>  Durbin-Watson:     </th> <td>   1.580</td>\n",
       "</tr>\n",
       "<tr>\n",
       "  <th>Prob(Omnibus):</th> <td> 0.686</td> <th>  Jarque-Bera (JB):  </th> <td>   0.194</td>\n",
       "</tr>\n",
       "<tr>\n",
       "  <th>Skew:</th>          <td>-0.225</td> <th>  Prob(JB):          </th> <td>   0.908</td>\n",
       "</tr>\n",
       "<tr>\n",
       "  <th>Kurtosis:</th>      <td> 3.093</td> <th>  Cond. No.          </th> <td>    7.17</td>\n",
       "</tr>\n",
       "</table><br/><br/>Warnings:<br/>[1] Standard Errors assume that the covariance matrix of the errors is correctly specified."
      ],
      "text/plain": [
       "<class 'statsmodels.iolib.summary.Summary'>\n",
       "\"\"\"\n",
       "                            OLS Regression Results                            \n",
       "==============================================================================\n",
       "Dep. Variable:                    aqi   R-squared:                       0.752\n",
       "Model:                            OLS   Adj. R-squared:                  0.711\n",
       "Method:                 Least Squares   F-statistic:                     18.24\n",
       "Date:                Mon, 01 Jun 2020   Prob (F-statistic):           1.08e-05\n",
       "Time:                        19:30:23   Log-Likelihood:                -51.637\n",
       "No. Observations:                  22   AIC:                             111.3\n",
       "Df Residuals:                      18   BIC:                             115.6\n",
       "Df Model:                           3                                         \n",
       "Covariance Type:            nonrobust                                         \n",
       "==============================================================================\n",
       "                 coef    std err          t      P>|t|      [0.025      0.975]\n",
       "------------------------------------------------------------------------------\n",
       "const         16.9560      1.251     13.556      0.000      14.328      19.584\n",
       "treatment     -6.9400      1.769     -3.923      0.001     -10.656      -3.224\n",
       "post         -11.7643      1.694     -6.946      0.000     -15.323      -8.206\n",
       "treatxpost     8.7483      2.395      3.653      0.002       3.716      13.780\n",
       "==============================================================================\n",
       "Omnibus:                        0.754   Durbin-Watson:                   1.580\n",
       "Prob(Omnibus):                  0.686   Jarque-Bera (JB):                0.194\n",
       "Skew:                          -0.225   Prob(JB):                        0.908\n",
       "Kurtosis:                       3.093   Cond. No.                         7.17\n",
       "==============================================================================\n",
       "\n",
       "Warnings:\n",
       "[1] Standard Errors assume that the covariance matrix of the errors is correctly specified.\n",
       "\"\"\""
      ]
     },
     "execution_count": 87,
     "metadata": {},
     "output_type": "execute_result"
    }
   ],
   "source": [
    "df['treatxpost'] = df['treatment'] * df['post']\n",
    "\n",
    "X = df[['treatment','post', 'treatxpost']]\n",
    "X = sm.add_constant(X)\n",
    "\n",
    "results = sm.OLS(df['aqi'], X).fit()\n",
    "results.summary()"
   ]
  },
  {
   "cell_type": "markdown",
   "metadata": {},
   "source": [
    "$\\beta_{0}$: Mean Seattle AQI prior to 2008 \\\n",
    "$\\beta_{Treatment}$: Difference in average AQI between the two counties prior to 2008 \\\n",
    "$\\beta_{Post}$: Difference in Seattle's average AQI before and after 2008\\\n",
    "$\\beta_{Treatment * Post}$: Difference in difference estimate of the effect of the carbon tax on AQI \n",
    "\n",
    "According to this model, the implementation of the carbon tax increases AQI by a value of 8.73 points\n",
    "\n",
    "This of course goes against the intuition that a levyed carbon tax would increase air quality. The following plots show that Seattle would not work as a counterfactual."
   ]
  },
  {
   "cell_type": "code",
   "execution_count": 88,
   "metadata": {
    "jupyter": {
     "source_hidden": true
    }
   },
   "outputs": [
    {
     "data": {
      "application/vnd.vegalite.v3+json": {
       "$schema": "https://vega.github.io/schema/vega-lite/v3.4.0.json",
       "config": {
        "mark": {
         "tooltip": null
        },
        "view": {
         "height": 300,
         "width": 400
        }
       },
       "data": {
        "name": "data-83973b2bc89f2f7ec44d353c8e877e82"
       },
       "datasets": {
        "data-83973b2bc89f2f7ec44d353c8e877e82": [
         {
          "Year": 2003,
          "aqi": 12.06,
          "cost": 11.78,
          "county": "Santa Clara",
          "electricity": 15183.038,
          "gas": 482.42400000000004,
          "population": 1673000,
          "post": 0,
          "treatment": 1,
          "treatxpost": 0
         },
         {
          "Year": 2004,
          "aqi": 10.71,
          "cost": 11.35,
          "county": "Santa Clara",
          "electricity": 15359.47,
          "gas": 510.846,
          "population": 1676000,
          "post": 0,
          "treatment": 1,
          "treatxpost": 0
         },
         {
          "Year": 2005,
          "aqi": 10.97,
          "cost": 11.63,
          "county": "Santa Clara",
          "electricity": 15566.04,
          "gas": 462.871,
          "population": 1691000,
          "post": 0,
          "treatment": 1,
          "treatxpost": 0
         },
         {
          "Year": 2006,
          "aqi": 8.39,
          "cost": 12.82,
          "county": "Santa Clara",
          "electricity": 16058.13,
          "gas": 485.145,
          "population": 1709000,
          "post": 0,
          "treatment": 1,
          "treatxpost": 0
         },
         {
          "Year": 2007,
          "aqi": 7.95,
          "cost": 12.8,
          "county": "Santa Clara",
          "electricity": 16459.77,
          "gas": 472.156,
          "population": 1733000,
          "post": 0,
          "treatment": 1,
          "treatxpost": 0
         },
         {
          "Year": 2008,
          "aqi": 7.83,
          "cost": 12.49,
          "county": "Santa Clara",
          "electricity": 16733.2,
          "gas": 473.171,
          "population": 1765000,
          "post": 1,
          "treatment": 1,
          "treatxpost": 1
         },
         {
          "Year": 2009,
          "aqi": 6.86,
          "cost": 13.24,
          "county": "Santa Clara",
          "electricity": 16564.91,
          "gas": 461.89,
          "population": 1792000,
          "post": 1,
          "treatment": 1,
          "treatxpost": 1
         },
         {
          "Year": 2010,
          "aqi": 5.95,
          "cost": 13.01,
          "county": "Santa Clara",
          "electricity": 16271.12,
          "gas": 457.56199999999995,
          "population": 1786000,
          "post": 1,
          "treatment": 1,
          "treatxpost": 1
         },
         {
          "Year": 2011,
          "aqi": 7.04,
          "cost": 13.05,
          "county": "Santa Clara",
          "electricity": 16553.28,
          "gas": 471.69800000000004,
          "population": 1812000,
          "post": 1,
          "treatment": 1,
          "treatxpost": 1
         },
         {
          "Year": 2012,
          "aqi": 6.73,
          "cost": 13.53,
          "county": "Santa Clara",
          "electricity": 16507.68,
          "gas": 454.57800000000003,
          "population": 1838000,
          "post": 1,
          "treatment": 1,
          "treatxpost": 1
         },
         {
          "Year": 2013,
          "aqi": 7.59,
          "cost": 14.3,
          "county": "Santa Clara",
          "electricity": 16578.86,
          "gas": 465.918,
          "population": 1866000,
          "post": 1,
          "treatment": 1,
          "treatxpost": 1
         },
         {
          "Year": 2003,
          "aqi": 21.62,
          "cost": 5.86,
          "county": "King",
          "electricity": 19342.69,
          "gas": 600.143,
          "population": 1767000,
          "post": 0,
          "treatment": 0,
          "treatxpost": 0
         },
         {
          "Year": 2004,
          "aqi": 19.42,
          "cost": 5.8,
          "county": "King",
          "electricity": 19518.533,
          "gas": 591.114,
          "population": 1779000,
          "post": 0,
          "treatment": 0,
          "treatxpost": 0
         },
         {
          "Year": 2005,
          "aqi": 19.45,
          "cost": 5.87,
          "county": "King",
          "electricity": 19928.832,
          "gas": 602.144,
          "population": 1800000,
          "post": 0,
          "treatment": 0,
          "treatxpost": 0
         },
         {
          "Year": 2006,
          "aqi": 13.67,
          "cost": 6.14,
          "county": "King",
          "electricity": 20514.974,
          "gas": 620.148,
          "population": 1828000,
          "post": 0,
          "treatment": 0,
          "treatxpost": 0
         },
         {
          "Year": 2007,
          "aqi": 10.62,
          "cost": 6.37,
          "county": "King",
          "electricity": 20925.273999999998,
          "gas": 648.156,
          "population": 1853000,
          "post": 0,
          "treatment": 0,
          "treatxpost": 0
         },
         {
          "Year": 2008,
          "aqi": 9.45,
          "cost": 6.55,
          "county": "King",
          "electricity": 21247.652000000002,
          "gas": 671.1610000000001,
          "population": 1881000,
          "post": 1,
          "treatment": 0,
          "treatxpost": 0
         },
         {
          "Year": 2009,
          "aqi": 8.27,
          "cost": 6.59,
          "county": "King",
          "electricity": 21189.037999999997,
          "gas": 656.1569999999999,
          "population": 1918000,
          "post": 1,
          "treatment": 0,
          "treatxpost": 0
         },
         {
          "Year": 2010,
          "aqi": 3.41,
          "cost": 6.66,
          "county": "King",
          "electricity": 21585.092999999997,
          "gas": 651.934,
          "population": 1938000,
          "post": 1,
          "treatment": 0,
          "treatxpost": 0
         },
         {
          "Year": 2011,
          "aqi": 3.43,
          "cost": 6.78,
          "county": "King",
          "electricity": 21509.691000000003,
          "gas": 641.754,
          "population": 1974000,
          "post": 1,
          "treatment": 0,
          "treatxpost": 0
         },
         {
          "Year": 2012,
          "aqi": 3.18,
          "cost": 6.94,
          "county": "King",
          "electricity": 21698.477000000003,
          "gas": 673.153,
          "population": 2011000,
          "post": 1,
          "treatment": 0,
          "treatxpost": 0
         },
         {
          "Year": 2013,
          "aqi": 3.41,
          "cost": 7.09,
          "county": "King",
          "electricity": 21763.55,
          "gas": 670.645,
          "population": 2047000,
          "post": 1,
          "treatment": 0,
          "treatxpost": 0
         }
        ]
       },
       "layer": [
        {
         "encoding": {
          "detail": {
           "field": "county",
           "type": "nominal"
          },
          "x": {
           "field": "aqi",
           "type": "quantitative"
          },
          "y": {
           "field": "county",
           "type": "nominal"
          }
         },
         "mark": {
          "color": "#db646f",
          "type": "line"
         }
        },
        {
         "encoding": {
          "color": {
           "field": "Year",
           "scale": {
            "domain": [
             "2005",
             "2011"
            ],
            "range": [
             "#e6959c",
             "#911a24"
            ]
           },
           "type": "ordinal"
          },
          "x": {
           "field": "aqi",
           "type": "quantitative"
          },
          "y": {
           "field": "county",
           "type": "nominal"
          }
         },
         "mark": {
          "filled": true,
          "opacity": 1,
          "size": 100,
          "type": "point"
         },
         "selection": {
          "selector029": {
           "bind": "scales",
           "encodings": [
            "x",
            "y"
           ],
           "type": "interval"
          }
         }
        }
       ],
       "transform": [
        {
         "filter": {
          "field": "county",
          "oneOf": [
           "Santa Clara",
           "King"
          ]
         }
        },
        {
         "filter": {
          "field": "Year",
          "oneOf": [
           2005,
           2011
          ]
         }
        }
       ]
      },
      "image/png": "[encoded data removed]",
      "text/plain": [
       "<VegaLite 3 object>\n",
       "\n",
       "If you see this message, it means the renderer has not been properly enabled\n",
       "for the frontend that you are using. For more information, see\n",
       "https://altair-viz.github.io/user_guide/troubleshooting.html\n"
      ]
     },
     "execution_count": 88,
     "metadata": {},
     "output_type": "execute_result"
    }
   ],
   "source": [
    "chart = alt.layer(\n",
    "    data=df\n",
    ").transform_filter(\n",
    "    filter={\"field\": 'county',\n",
    "            \"oneOf\": [\"Santa Clara\", \"King\"]}\n",
    ").transform_filter(\n",
    "    filter={'field': 'Year',\n",
    "            \"oneOf\": [2005, 2011]}\n",
    ")\n",
    "\n",
    "chart += alt.Chart().mark_line(color='#db646f').encode(\n",
    "    x='aqi:Q',\n",
    "    y='county:N',\n",
    "    detail='county:N'\n",
    ")\n",
    "\n",
    "chart += alt.Chart().mark_point(\n",
    "    size=100,\n",
    "    opacity=1,\n",
    "    filled=True\n",
    ").encode(\n",
    "    x='aqi:Q',\n",
    "    y='county:N',\n",
    "    color=alt.Color('Year:O',\n",
    "        scale=alt.Scale(\n",
    "            domain=['2005', '2011'],\n",
    "            range=['#e6959c', '#911a24']\n",
    "        )\n",
    "    )\n",
    ").interactive()\n",
    "\n",
    "chart"
   ]
  },
  {
   "cell_type": "markdown",
   "metadata": {},
   "source": [
    "Here we see that Seattle dramatically reduced it's average AQI between 2005 and 2011. Comparatively, Santa Clara county made very little improvement in air quality during that time, despite the implementation of the carbon tax."
   ]
  },
  {
   "cell_type": "code",
   "execution_count": 89,
   "metadata": {
    "jupyter": {
     "source_hidden": true
    }
   },
   "outputs": [
    {
     "data": {
      "application/vnd.vegalite.v3+json": {
       "$schema": "https://vega.github.io/schema/vega-lite/v3.4.0.json",
       "config": {
        "mark": {
         "tooltip": null
        },
        "view": {
         "height": 300,
         "width": 400
        }
       },
       "data": {
        "name": "data-83973b2bc89f2f7ec44d353c8e877e82"
       },
       "datasets": {
        "data-83973b2bc89f2f7ec44d353c8e877e82": [
         {
          "Year": 2003,
          "aqi": 12.06,
          "cost": 11.78,
          "county": "Santa Clara",
          "electricity": 15183.038,
          "gas": 482.42400000000004,
          "population": 1673000,
          "post": 0,
          "treatment": 1,
          "treatxpost": 0
         },
         {
          "Year": 2004,
          "aqi": 10.71,
          "cost": 11.35,
          "county": "Santa Clara",
          "electricity": 15359.47,
          "gas": 510.846,
          "population": 1676000,
          "post": 0,
          "treatment": 1,
          "treatxpost": 0
         },
         {
          "Year": 2005,
          "aqi": 10.97,
          "cost": 11.63,
          "county": "Santa Clara",
          "electricity": 15566.04,
          "gas": 462.871,
          "population": 1691000,
          "post": 0,
          "treatment": 1,
          "treatxpost": 0
         },
         {
          "Year": 2006,
          "aqi": 8.39,
          "cost": 12.82,
          "county": "Santa Clara",
          "electricity": 16058.13,
          "gas": 485.145,
          "population": 1709000,
          "post": 0,
          "treatment": 1,
          "treatxpost": 0
         },
         {
          "Year": 2007,
          "aqi": 7.95,
          "cost": 12.8,
          "county": "Santa Clara",
          "electricity": 16459.77,
          "gas": 472.156,
          "population": 1733000,
          "post": 0,
          "treatment": 1,
          "treatxpost": 0
         },
         {
          "Year": 2008,
          "aqi": 7.83,
          "cost": 12.49,
          "county": "Santa Clara",
          "electricity": 16733.2,
          "gas": 473.171,
          "population": 1765000,
          "post": 1,
          "treatment": 1,
          "treatxpost": 1
         },
         {
          "Year": 2009,
          "aqi": 6.86,
          "cost": 13.24,
          "county": "Santa Clara",
          "electricity": 16564.91,
          "gas": 461.89,
          "population": 1792000,
          "post": 1,
          "treatment": 1,
          "treatxpost": 1
         },
         {
          "Year": 2010,
          "aqi": 5.95,
          "cost": 13.01,
          "county": "Santa Clara",
          "electricity": 16271.12,
          "gas": 457.56199999999995,
          "population": 1786000,
          "post": 1,
          "treatment": 1,
          "treatxpost": 1
         },
         {
          "Year": 2011,
          "aqi": 7.04,
          "cost": 13.05,
          "county": "Santa Clara",
          "electricity": 16553.28,
          "gas": 471.69800000000004,
          "population": 1812000,
          "post": 1,
          "treatment": 1,
          "treatxpost": 1
         },
         {
          "Year": 2012,
          "aqi": 6.73,
          "cost": 13.53,
          "county": "Santa Clara",
          "electricity": 16507.68,
          "gas": 454.57800000000003,
          "population": 1838000,
          "post": 1,
          "treatment": 1,
          "treatxpost": 1
         },
         {
          "Year": 2013,
          "aqi": 7.59,
          "cost": 14.3,
          "county": "Santa Clara",
          "electricity": 16578.86,
          "gas": 465.918,
          "population": 1866000,
          "post": 1,
          "treatment": 1,
          "treatxpost": 1
         },
         {
          "Year": 2003,
          "aqi": 21.62,
          "cost": 5.86,
          "county": "King",
          "electricity": 19342.69,
          "gas": 600.143,
          "population": 1767000,
          "post": 0,
          "treatment": 0,
          "treatxpost": 0
         },
         {
          "Year": 2004,
          "aqi": 19.42,
          "cost": 5.8,
          "county": "King",
          "electricity": 19518.533,
          "gas": 591.114,
          "population": 1779000,
          "post": 0,
          "treatment": 0,
          "treatxpost": 0
         },
         {
          "Year": 2005,
          "aqi": 19.45,
          "cost": 5.87,
          "county": "King",
          "electricity": 19928.832,
          "gas": 602.144,
          "population": 1800000,
          "post": 0,
          "treatment": 0,
          "treatxpost": 0
         },
         {
          "Year": 2006,
          "aqi": 13.67,
          "cost": 6.14,
          "county": "King",
          "electricity": 20514.974,
          "gas": 620.148,
          "population": 1828000,
          "post": 0,
          "treatment": 0,
          "treatxpost": 0
         },
         {
          "Year": 2007,
          "aqi": 10.62,
          "cost": 6.37,
          "county": "King",
          "electricity": 20925.273999999998,
          "gas": 648.156,
          "population": 1853000,
          "post": 0,
          "treatment": 0,
          "treatxpost": 0
         },
         {
          "Year": 2008,
          "aqi": 9.45,
          "cost": 6.55,
          "county": "King",
          "electricity": 21247.652000000002,
          "gas": 671.1610000000001,
          "population": 1881000,
          "post": 1,
          "treatment": 0,
          "treatxpost": 0
         },
         {
          "Year": 2009,
          "aqi": 8.27,
          "cost": 6.59,
          "county": "King",
          "electricity": 21189.037999999997,
          "gas": 656.1569999999999,
          "population": 1918000,
          "post": 1,
          "treatment": 0,
          "treatxpost": 0
         },
         {
          "Year": 2010,
          "aqi": 3.41,
          "cost": 6.66,
          "county": "King",
          "electricity": 21585.092999999997,
          "gas": 651.934,
          "population": 1938000,
          "post": 1,
          "treatment": 0,
          "treatxpost": 0
         },
         {
          "Year": 2011,
          "aqi": 3.43,
          "cost": 6.78,
          "county": "King",
          "electricity": 21509.691000000003,
          "gas": 641.754,
          "population": 1974000,
          "post": 1,
          "treatment": 0,
          "treatxpost": 0
         },
         {
          "Year": 2012,
          "aqi": 3.18,
          "cost": 6.94,
          "county": "King",
          "electricity": 21698.477000000003,
          "gas": 673.153,
          "population": 2011000,
          "post": 1,
          "treatment": 0,
          "treatxpost": 0
         },
         {
          "Year": 2013,
          "aqi": 3.41,
          "cost": 7.09,
          "county": "King",
          "electricity": 21763.55,
          "gas": 670.645,
          "population": 2047000,
          "post": 1,
          "treatment": 0,
          "treatxpost": 0
         }
        ]
       },
       "vconcat": [
        {
         "encoding": {
          "color": {
           "condition": {
            "field": "county",
            "selection": "selector030",
            "type": "nominal"
           },
           "value": "lightgray"
          },
          "x": {
           "field": "Year",
           "type": "nominal"
          },
          "y": {
           "field": "aqi",
           "type": "quantitative"
          }
         },
         "mark": "line",
         "selection": {
          "selector030": {
           "type": "interval"
          }
         },
         "width": 400
        },
        {
         "encoding": {
          "color": {
           "field": "county",
           "type": "nominal"
          },
          "x": {
           "field": "aqi",
           "type": "quantitative"
          },
          "y": {
           "field": "county",
           "type": "nominal"
          }
         },
         "mark": "bar",
         "transform": [
          {
           "filter": {
            "selection": "selector030"
           }
          }
         ],
         "width": 400
        }
       ]
      },
      "image/png": "[encoded data removed]",
      "text/plain": [
       "<VegaLite 3 object>\n",
       "\n",
       "If you see this message, it means the renderer has not been properly enabled\n",
       "for the frontend that you are using. For more information, see\n",
       "https://altair-viz.github.io/user_guide/troubleshooting.html\n"
      ]
     },
     "execution_count": 89,
     "metadata": {},
     "output_type": "execute_result"
    }
   ],
   "source": [
    "brush = alt.selection_interval()\n",
    "\n",
    "points = alt.Chart(df).mark_line().properties(width=400).encode(\n",
    "    x='Year:N',\n",
    "    y='aqi',\n",
    "    color=alt.condition(brush, 'county:N', alt.value('lightgray'))\n",
    ").add_selection(\n",
    "    brush\n",
    ")\n",
    "bars = alt.Chart(df).mark_bar().properties(width=400).encode(\n",
    "    y='county:N',\n",
    "    color='county:N',\n",
    "    x='aqi:Q'\n",
    ").transform_filter(\n",
    "    brush\n",
    ")\n",
    "points & bars"
   ]
  },
  {
   "cell_type": "markdown",
   "metadata": {},
   "source": [
    "The figure above shows that the paralell trend assumption of the DID model is broken after 2005 when Seattle made dramatic progress in improving air quality. \n",
    "Reasons for this may be car emission standards in Washington state which caught up to those in California throughout the 2000's. Wildfires that have become increasingly common in northern California over the last 20 years, which may have overshadowed the effects of emission reduction"
   ]
  },
  {
   "cell_type": "markdown",
   "metadata": {},
   "source": [
    "# Electricity Consumption per Capita"
   ]
  },
  {
   "cell_type": "markdown",
   "metadata": {},
   "source": [
    "To examine the direct effect of the tax on energy consumption, from both residential and industrail entities, the following two model will attempt to measure the reduction in electricity and gas usage per capita before and after its implementation. "
   ]
  },
  {
   "cell_type": "code",
   "execution_count": 107,
   "metadata": {
    "jupyter": {
     "source_hidden": true
    }
   },
   "outputs": [
    {
     "data": {
      "text/html": [
       "<table class=\"simpletable\">\n",
       "<caption>OLS Regression Results</caption>\n",
       "<tr>\n",
       "  <th>Dep. Variable:</th>     <td>electricity_pc</td>  <th>  R-squared:         </th> <td>   0.978</td>\n",
       "</tr>\n",
       "<tr>\n",
       "  <th>Model:</th>                   <td>OLS</td>       <th>  Adj. R-squared:    </th> <td>   0.974</td>\n",
       "</tr>\n",
       "<tr>\n",
       "  <th>Method:</th>             <td>Least Squares</td>  <th>  F-statistic:       </th> <td>   265.9</td>\n",
       "</tr>\n",
       "<tr>\n",
       "  <th>Date:</th>             <td>Mon, 01 Jun 2020</td> <th>  Prob (F-statistic):</th> <td>4.33e-15</td>\n",
       "</tr>\n",
       "<tr>\n",
       "  <th>Time:</th>                 <td>19:37:38</td>     <th>  Log-Likelihood:    </th> <td> -140.82</td>\n",
       "</tr>\n",
       "<tr>\n",
       "  <th>No. Observations:</th>      <td>    22</td>      <th>  AIC:               </th> <td>   289.6</td>\n",
       "</tr>\n",
       "<tr>\n",
       "  <th>Df Residuals:</th>          <td>    18</td>      <th>  BIC:               </th> <td>   294.0</td>\n",
       "</tr>\n",
       "<tr>\n",
       "  <th>Df Model:</th>              <td>     3</td>      <th>                     </th>     <td> </td>   \n",
       "</tr>\n",
       "<tr>\n",
       "  <th>Covariance Type:</th>      <td>nonrobust</td>    <th>                     </th>     <td> </td>   \n",
       "</tr>\n",
       "</table>\n",
       "<table class=\"simpletable\">\n",
       "<tr>\n",
       "       <td></td>         <th>coef</th>     <th>std err</th>      <th>t</th>      <th>P>|t|</th>  <th>[0.025</th>    <th>0.975]</th>  \n",
       "</tr>\n",
       "<tr>\n",
       "  <th>const</th>      <td>  1.11e+04</td> <td>   72.072</td> <td>  154.027</td> <td> 0.000</td> <td> 1.09e+04</td> <td> 1.13e+04</td>\n",
       "</tr>\n",
       "<tr>\n",
       "  <th>treatment</th>  <td>-1833.2249</td> <td>  101.925</td> <td>  -17.986</td> <td> 0.000</td> <td>-2047.361</td> <td>-1619.088</td>\n",
       "</tr>\n",
       "<tr>\n",
       "  <th>post</th>       <td>   63.9476</td> <td>   97.586</td> <td>    0.655</td> <td> 0.521</td> <td> -141.072</td> <td>  268.968</td>\n",
       "</tr>\n",
       "<tr>\n",
       "  <th>treatxpost</th> <td> -192.3877</td> <td>  138.007</td> <td>   -1.394</td> <td> 0.180</td> <td> -482.330</td> <td>   97.554</td>\n",
       "</tr>\n",
       "</table>\n",
       "<table class=\"simpletable\">\n",
       "<tr>\n",
       "  <th>Omnibus:</th>       <td> 0.993</td> <th>  Durbin-Watson:     </th> <td>   0.656</td>\n",
       "</tr>\n",
       "<tr>\n",
       "  <th>Prob(Omnibus):</th> <td> 0.609</td> <th>  Jarque-Bera (JB):  </th> <td>   0.833</td>\n",
       "</tr>\n",
       "<tr>\n",
       "  <th>Skew:</th>          <td> 0.436</td> <th>  Prob(JB):          </th> <td>   0.659</td>\n",
       "</tr>\n",
       "<tr>\n",
       "  <th>Kurtosis:</th>      <td> 2.616</td> <th>  Cond. No.          </th> <td>    7.17</td>\n",
       "</tr>\n",
       "</table><br/><br/>Warnings:<br/>[1] Standard Errors assume that the covariance matrix of the errors is correctly specified."
      ],
      "text/plain": [
       "<class 'statsmodels.iolib.summary.Summary'>\n",
       "\"\"\"\n",
       "                            OLS Regression Results                            \n",
       "==============================================================================\n",
       "Dep. Variable:         electricity_pc   R-squared:                       0.978\n",
       "Model:                            OLS   Adj. R-squared:                  0.974\n",
       "Method:                 Least Squares   F-statistic:                     265.9\n",
       "Date:                Mon, 01 Jun 2020   Prob (F-statistic):           4.33e-15\n",
       "Time:                        19:37:38   Log-Likelihood:                -140.82\n",
       "No. Observations:                  22   AIC:                             289.6\n",
       "Df Residuals:                      18   BIC:                             294.0\n",
       "Df Model:                           3                                         \n",
       "Covariance Type:            nonrobust                                         \n",
       "==============================================================================\n",
       "                 coef    std err          t      P>|t|      [0.025      0.975]\n",
       "------------------------------------------------------------------------------\n",
       "const        1.11e+04     72.072    154.027      0.000    1.09e+04    1.13e+04\n",
       "treatment  -1833.2249    101.925    -17.986      0.000   -2047.361   -1619.088\n",
       "post          63.9476     97.586      0.655      0.521    -141.072     268.968\n",
       "treatxpost  -192.3877    138.007     -1.394      0.180    -482.330      97.554\n",
       "==============================================================================\n",
       "Omnibus:                        0.993   Durbin-Watson:                   0.656\n",
       "Prob(Omnibus):                  0.609   Jarque-Bera (JB):                0.833\n",
       "Skew:                           0.436   Prob(JB):                        0.659\n",
       "Kurtosis:                       2.616   Cond. No.                         7.17\n",
       "==============================================================================\n",
       "\n",
       "Warnings:\n",
       "[1] Standard Errors assume that the covariance matrix of the errors is correctly specified.\n",
       "\"\"\""
      ]
     },
     "execution_count": 107,
     "metadata": {},
     "output_type": "execute_result"
    }
   ],
   "source": [
    "df['pop_million'] = df['population'] / 1000000\n",
    "df['electricity_pc'] = df['electricity'] / df['pop_million']\n",
    "results = sm.OLS(df['electricity_pc'], X).fit()\n",
    "results.summary() "
   ]
  },
  {
   "cell_type": "markdown",
   "metadata": {},
   "source": [
    "$\\beta_{0}$: Average kilowatt-hours consumed per capita in Seattle prior to 2008 \\\n",
    "$\\beta_{Treatment}$: Difference in kilowatt-hours consumed per capita between the two counties prior to 2008 \\\n",
    "$\\beta_{Post}$: Difference in Seattle's kilowatt-hours consumed per capita before and after 2008\\\n",
    "$\\beta_{Treatment * Post}$: Difference in difference estimate of the effect of the carbon tax on kilowatt-hours of electricity consumed \n",
    "\n",
    "According to this model, the implementation of the carbon tax decreases electricity consumed per capita by 192.39 kilowatt-hours."
   ]
  },
  {
   "cell_type": "code",
   "execution_count": 110,
   "metadata": {
    "jupyter": {
     "source_hidden": true
    }
   },
   "outputs": [
    {
     "data": {
      "application/vnd.vegalite.v3+json": {
       "$schema": "https://vega.github.io/schema/vega-lite/v3.4.0.json",
       "config": {
        "mark": {
         "tooltip": null
        },
        "view": {
         "height": 300,
         "width": 400
        }
       },
       "data": {
        "name": "data-d55a8f12b9764a6038b4d1ae033609e4"
       },
       "datasets": {
        "data-d55a8f12b9764a6038b4d1ae033609e4": [
         {
          "Year": 2003,
          "aqi": 12.06,
          "cost": 11.78,
          "county": "Santa Clara",
          "electricity": 15183.038,
          "electricity_pc": 9075.336521219366,
          "gas": 482.42400000000004,
          "pop_million": 1.673,
          "population": 1673000,
          "post": 0,
          "treatment": 1
         },
         {
          "Year": 2004,
          "aqi": 10.71,
          "cost": 11.35,
          "county": "Santa Clara",
          "electricity": 15359.47,
          "electricity_pc": 9164.361575178998,
          "gas": 510.846,
          "pop_million": 1.676,
          "population": 1676000,
          "post": 0,
          "treatment": 1
         },
         {
          "Year": 2005,
          "aqi": 10.97,
          "cost": 11.63,
          "county": "Santa Clara",
          "electricity": 15566.04,
          "electricity_pc": 9205.2276759314,
          "gas": 462.871,
          "pop_million": 1.691,
          "population": 1691000,
          "post": 0,
          "treatment": 1
         },
         {
          "Year": 2006,
          "aqi": 8.39,
          "cost": 12.82,
          "county": "Santa Clara",
          "electricity": 16058.13,
          "electricity_pc": 9396.214160327676,
          "gas": 485.145,
          "pop_million": 1.709,
          "population": 1709000,
          "post": 0,
          "treatment": 1
         },
         {
          "Year": 2007,
          "aqi": 7.95,
          "cost": 12.8,
          "county": "Santa Clara",
          "electricity": 16459.77,
          "electricity_pc": 9497.847663012117,
          "gas": 472.156,
          "pop_million": 1.733,
          "population": 1733000,
          "post": 0,
          "treatment": 1
         },
         {
          "Year": 2008,
          "aqi": 7.83,
          "cost": 12.49,
          "county": "Santa Clara",
          "electricity": 16733.2,
          "electricity_pc": 9480.566572237962,
          "gas": 473.171,
          "pop_million": 1.765,
          "population": 1765000,
          "post": 1,
          "treatment": 1
         },
         {
          "Year": 2009,
          "aqi": 6.86,
          "cost": 13.24,
          "county": "Santa Clara",
          "electricity": 16564.91,
          "electricity_pc": 9243.81138392857,
          "gas": 461.89,
          "pop_million": 1.792,
          "population": 1792000,
          "post": 1,
          "treatment": 1
         },
         {
          "Year": 2010,
          "aqi": 5.95,
          "cost": 13.01,
          "county": "Santa Clara",
          "electricity": 16271.12,
          "electricity_pc": 9110.36954087346,
          "gas": 457.56199999999995,
          "pop_million": 1.786,
          "population": 1786000,
          "post": 1,
          "treatment": 1
         },
         {
          "Year": 2011,
          "aqi": 7.04,
          "cost": 13.05,
          "county": "Santa Clara",
          "electricity": 16553.28,
          "electricity_pc": 9135.364238410595,
          "gas": 471.69800000000004,
          "pop_million": 1.812,
          "population": 1812000,
          "post": 1,
          "treatment": 1
         },
         {
          "Year": 2012,
          "aqi": 6.73,
          "cost": 13.53,
          "county": "Santa Clara",
          "electricity": 16507.68,
          "electricity_pc": 8981.32752992383,
          "gas": 454.57800000000003,
          "pop_million": 1.838,
          "population": 1838000,
          "post": 1,
          "treatment": 1
         },
         {
          "Year": 2013,
          "aqi": 7.59,
          "cost": 14.3,
          "county": "Santa Clara",
          "electricity": 16578.86,
          "electricity_pc": 8884.70525187567,
          "gas": 465.918,
          "pop_million": 1.866,
          "population": 1866000,
          "post": 1,
          "treatment": 1
         },
         {
          "Year": 2003,
          "aqi": 21.62,
          "cost": 5.86,
          "county": "King",
          "electricity": 19342.69,
          "electricity_pc": 10946.627051499718,
          "gas": 600.143,
          "pop_million": 1.767,
          "population": 1767000,
          "post": 0,
          "treatment": 0
         },
         {
          "Year": 2004,
          "aqi": 19.42,
          "cost": 5.8,
          "county": "King",
          "electricity": 19518.533,
          "electricity_pc": 10971.631815626757,
          "gas": 591.114,
          "pop_million": 1.779,
          "population": 1779000,
          "post": 0,
          "treatment": 0
         },
         {
          "Year": 2005,
          "aqi": 19.45,
          "cost": 5.87,
          "county": "King",
          "electricity": 19928.832,
          "electricity_pc": 11071.573333333332,
          "gas": 602.144,
          "pop_million": 1.8,
          "population": 1800000,
          "post": 0,
          "treatment": 0
         },
         {
          "Year": 2006,
          "aqi": 13.67,
          "cost": 6.14,
          "county": "King",
          "electricity": 20514.974,
          "electricity_pc": 11222.633479212252,
          "gas": 620.148,
          "pop_million": 1.828,
          "population": 1828000,
          "post": 0,
          "treatment": 0
         },
         {
          "Year": 2007,
          "aqi": 10.62,
          "cost": 6.37,
          "county": "King",
          "electricity": 20925.273999999998,
          "electricity_pc": 11292.646519158121,
          "gas": 648.156,
          "pop_million": 1.853,
          "population": 1853000,
          "post": 0,
          "treatment": 0
         },
         {
          "Year": 2008,
          "aqi": 9.45,
          "cost": 6.55,
          "county": "King",
          "electricity": 21247.652000000002,
          "electricity_pc": 11295.934077618289,
          "gas": 671.1610000000001,
          "pop_million": 1.881,
          "population": 1881000,
          "post": 1,
          "treatment": 0
         },
         {
          "Year": 2009,
          "aqi": 8.27,
          "cost": 6.59,
          "county": "King",
          "electricity": 21189.037999999997,
          "electricity_pc": 11047.465067778936,
          "gas": 656.1569999999999,
          "pop_million": 1.918,
          "population": 1918000,
          "post": 1,
          "treatment": 0
         },
         {
          "Year": 2010,
          "aqi": 3.41,
          "cost": 6.66,
          "county": "King",
          "electricity": 21585.092999999997,
          "electricity_pc": 11137.818885448914,
          "gas": 651.934,
          "pop_million": 1.938,
          "population": 1938000,
          "post": 1,
          "treatment": 0
         },
         {
          "Year": 2011,
          "aqi": 3.43,
          "cost": 6.78,
          "county": "King",
          "electricity": 22109.691000000003,
          "electricity_pc": 11200.451367781156,
          "gas": 641.754,
          "pop_million": 1.974,
          "population": 1974000,
          "post": 1,
          "treatment": 0
         },
         {
          "Year": 2012,
          "aqi": 3.18,
          "cost": 6.94,
          "county": "King",
          "electricity": 22498.477000000003,
          "electricity_pc": 11187.706116360021,
          "gas": 673.153,
          "pop_million": 2.011,
          "population": 2011000,
          "post": 1,
          "treatment": 0
         },
         {
          "Year": 2013,
          "aqi": 3.41,
          "cost": 7.09,
          "county": "King",
          "electricity": 22763.55,
          "electricity_pc": 11120.444553004396,
          "gas": 670.645,
          "pop_million": 2.047,
          "population": 2047000,
          "post": 1,
          "treatment": 0
         }
        ]
       },
       "layer": [
        {
         "encoding": {
          "detail": {
           "field": "county",
           "type": "nominal"
          },
          "x": {
           "field": "electricity_pc",
           "type": "quantitative"
          },
          "y": {
           "field": "county",
           "type": "nominal"
          }
         },
         "mark": {
          "color": "#db646f",
          "type": "line"
         }
        },
        {
         "encoding": {
          "color": {
           "field": "Year",
           "scale": {
            "domain": [
             "2005",
             "2011"
            ],
            "range": [
             "#e6959c",
             "#911a24"
            ]
           },
           "type": "ordinal"
          },
          "x": {
           "field": "electricity_pc",
           "type": "quantitative"
          },
          "y": {
           "field": "county",
           "type": "nominal"
          }
         },
         "mark": {
          "filled": true,
          "opacity": 1,
          "size": 100,
          "type": "point"
         },
         "selection": {
          "selector041": {
           "bind": "scales",
           "encodings": [
            "x",
            "y"
           ],
           "type": "interval"
          }
         }
        }
       ],
       "transform": [
        {
         "filter": {
          "field": "county",
          "oneOf": [
           "Santa Clara",
           "King"
          ]
         }
        },
        {
         "filter": {
          "field": "Year",
          "oneOf": [
           2005,
           2011
          ]
         }
        }
       ]
      },
      "image/png": "[encoded data removed]",
      "text/plain": [
       "<VegaLite 3 object>\n",
       "\n",
       "If you see this message, it means the renderer has not been properly enabled\n",
       "for the frontend that you are using. For more information, see\n",
       "https://altair-viz.github.io/user_guide/troubleshooting.html\n"
      ]
     },
     "execution_count": 110,
     "metadata": {},
     "output_type": "execute_result"
    }
   ],
   "source": [
    "chart = alt.layer(\n",
    "    data=df\n",
    ").transform_filter(\n",
    "    filter={\"field\": 'county',\n",
    "            \"oneOf\": [\"Santa Clara\", \"King\"]}\n",
    ").transform_filter(\n",
    "    filter={'field': 'Year',\n",
    "            \"oneOf\": [2005, 2011]}\n",
    ")\n",
    "\n",
    "chart += alt.Chart().mark_line(color='#db646f').encode(\n",
    "    x='electricity_pc:Q',\n",
    "    y='county:N',\n",
    "    detail='county:N'\n",
    ")\n",
    "\n",
    "chart += alt.Chart().mark_point(\n",
    "    size=100,\n",
    "    opacity=1,\n",
    "    filled=True\n",
    ").encode(\n",
    "    x='electricity_pc:Q',\n",
    "    y='county:N',\n",
    "    color=alt.Color('Year:O',\n",
    "        scale=alt.Scale(\n",
    "            domain=['2005', '2011'],\n",
    "            range=['#e6959c', '#911a24']\n",
    "        )\n",
    "    )\n",
    ").interactive()\n",
    "\n",
    "chart"
   ]
  },
  {
   "cell_type": "code",
   "execution_count": 109,
   "metadata": {
    "jupyter": {
     "source_hidden": true
    }
   },
   "outputs": [
    {
     "data": {
      "application/vnd.vegalite.v3+json": {
       "$schema": "https://vega.github.io/schema/vega-lite/v3.4.0.json",
       "config": {
        "mark": {
         "tooltip": null
        },
        "view": {
         "height": 300,
         "width": 400
        }
       },
       "data": {
        "name": "data-d55a8f12b9764a6038b4d1ae033609e4"
       },
       "datasets": {
        "data-d55a8f12b9764a6038b4d1ae033609e4": [
         {
          "Year": 2003,
          "aqi": 12.06,
          "cost": 11.78,
          "county": "Santa Clara",
          "electricity": 15183.038,
          "electricity_pc": 9075.336521219366,
          "gas": 482.42400000000004,
          "pop_million": 1.673,
          "population": 1673000,
          "post": 0,
          "treatment": 1
         },
         {
          "Year": 2004,
          "aqi": 10.71,
          "cost": 11.35,
          "county": "Santa Clara",
          "electricity": 15359.47,
          "electricity_pc": 9164.361575178998,
          "gas": 510.846,
          "pop_million": 1.676,
          "population": 1676000,
          "post": 0,
          "treatment": 1
         },
         {
          "Year": 2005,
          "aqi": 10.97,
          "cost": 11.63,
          "county": "Santa Clara",
          "electricity": 15566.04,
          "electricity_pc": 9205.2276759314,
          "gas": 462.871,
          "pop_million": 1.691,
          "population": 1691000,
          "post": 0,
          "treatment": 1
         },
         {
          "Year": 2006,
          "aqi": 8.39,
          "cost": 12.82,
          "county": "Santa Clara",
          "electricity": 16058.13,
          "electricity_pc": 9396.214160327676,
          "gas": 485.145,
          "pop_million": 1.709,
          "population": 1709000,
          "post": 0,
          "treatment": 1
         },
         {
          "Year": 2007,
          "aqi": 7.95,
          "cost": 12.8,
          "county": "Santa Clara",
          "electricity": 16459.77,
          "electricity_pc": 9497.847663012117,
          "gas": 472.156,
          "pop_million": 1.733,
          "population": 1733000,
          "post": 0,
          "treatment": 1
         },
         {
          "Year": 2008,
          "aqi": 7.83,
          "cost": 12.49,
          "county": "Santa Clara",
          "electricity": 16733.2,
          "electricity_pc": 9480.566572237962,
          "gas": 473.171,
          "pop_million": 1.765,
          "population": 1765000,
          "post": 1,
          "treatment": 1
         },
         {
          "Year": 2009,
          "aqi": 6.86,
          "cost": 13.24,
          "county": "Santa Clara",
          "electricity": 16564.91,
          "electricity_pc": 9243.81138392857,
          "gas": 461.89,
          "pop_million": 1.792,
          "population": 1792000,
          "post": 1,
          "treatment": 1
         },
         {
          "Year": 2010,
          "aqi": 5.95,
          "cost": 13.01,
          "county": "Santa Clara",
          "electricity": 16271.12,
          "electricity_pc": 9110.36954087346,
          "gas": 457.56199999999995,
          "pop_million": 1.786,
          "population": 1786000,
          "post": 1,
          "treatment": 1
         },
         {
          "Year": 2011,
          "aqi": 7.04,
          "cost": 13.05,
          "county": "Santa Clara",
          "electricity": 16553.28,
          "electricity_pc": 9135.364238410595,
          "gas": 471.69800000000004,
          "pop_million": 1.812,
          "population": 1812000,
          "post": 1,
          "treatment": 1
         },
         {
          "Year": 2012,
          "aqi": 6.73,
          "cost": 13.53,
          "county": "Santa Clara",
          "electricity": 16507.68,
          "electricity_pc": 8981.32752992383,
          "gas": 454.57800000000003,
          "pop_million": 1.838,
          "population": 1838000,
          "post": 1,
          "treatment": 1
         },
         {
          "Year": 2013,
          "aqi": 7.59,
          "cost": 14.3,
          "county": "Santa Clara",
          "electricity": 16578.86,
          "electricity_pc": 8884.70525187567,
          "gas": 465.918,
          "pop_million": 1.866,
          "population": 1866000,
          "post": 1,
          "treatment": 1
         },
         {
          "Year": 2003,
          "aqi": 21.62,
          "cost": 5.86,
          "county": "King",
          "electricity": 19342.69,
          "electricity_pc": 10946.627051499718,
          "gas": 600.143,
          "pop_million": 1.767,
          "population": 1767000,
          "post": 0,
          "treatment": 0
         },
         {
          "Year": 2004,
          "aqi": 19.42,
          "cost": 5.8,
          "county": "King",
          "electricity": 19518.533,
          "electricity_pc": 10971.631815626757,
          "gas": 591.114,
          "pop_million": 1.779,
          "population": 1779000,
          "post": 0,
          "treatment": 0
         },
         {
          "Year": 2005,
          "aqi": 19.45,
          "cost": 5.87,
          "county": "King",
          "electricity": 19928.832,
          "electricity_pc": 11071.573333333332,
          "gas": 602.144,
          "pop_million": 1.8,
          "population": 1800000,
          "post": 0,
          "treatment": 0
         },
         {
          "Year": 2006,
          "aqi": 13.67,
          "cost": 6.14,
          "county": "King",
          "electricity": 20514.974,
          "electricity_pc": 11222.633479212252,
          "gas": 620.148,
          "pop_million": 1.828,
          "population": 1828000,
          "post": 0,
          "treatment": 0
         },
         {
          "Year": 2007,
          "aqi": 10.62,
          "cost": 6.37,
          "county": "King",
          "electricity": 20925.273999999998,
          "electricity_pc": 11292.646519158121,
          "gas": 648.156,
          "pop_million": 1.853,
          "population": 1853000,
          "post": 0,
          "treatment": 0
         },
         {
          "Year": 2008,
          "aqi": 9.45,
          "cost": 6.55,
          "county": "King",
          "electricity": 21247.652000000002,
          "electricity_pc": 11295.934077618289,
          "gas": 671.1610000000001,
          "pop_million": 1.881,
          "population": 1881000,
          "post": 1,
          "treatment": 0
         },
         {
          "Year": 2009,
          "aqi": 8.27,
          "cost": 6.59,
          "county": "King",
          "electricity": 21189.037999999997,
          "electricity_pc": 11047.465067778936,
          "gas": 656.1569999999999,
          "pop_million": 1.918,
          "population": 1918000,
          "post": 1,
          "treatment": 0
         },
         {
          "Year": 2010,
          "aqi": 3.41,
          "cost": 6.66,
          "county": "King",
          "electricity": 21585.092999999997,
          "electricity_pc": 11137.818885448914,
          "gas": 651.934,
          "pop_million": 1.938,
          "population": 1938000,
          "post": 1,
          "treatment": 0
         },
         {
          "Year": 2011,
          "aqi": 3.43,
          "cost": 6.78,
          "county": "King",
          "electricity": 22109.691000000003,
          "electricity_pc": 11200.451367781156,
          "gas": 641.754,
          "pop_million": 1.974,
          "population": 1974000,
          "post": 1,
          "treatment": 0
         },
         {
          "Year": 2012,
          "aqi": 3.18,
          "cost": 6.94,
          "county": "King",
          "electricity": 22498.477000000003,
          "electricity_pc": 11187.706116360021,
          "gas": 673.153,
          "pop_million": 2.011,
          "population": 2011000,
          "post": 1,
          "treatment": 0
         },
         {
          "Year": 2013,
          "aqi": 3.41,
          "cost": 7.09,
          "county": "King",
          "electricity": 22763.55,
          "electricity_pc": 11120.444553004396,
          "gas": 670.645,
          "pop_million": 2.047,
          "population": 2047000,
          "post": 1,
          "treatment": 0
         }
        ]
       },
       "encoding": {
        "color": {
         "condition": {
          "field": "county",
          "selection": "selector030",
          "type": "nominal"
         },
         "value": "lightgray"
        },
        "x": {
         "field": "Year",
         "type": "nominal"
        },
        "y": {
         "field": "electricity_pc",
         "type": "quantitative"
        }
       },
       "mark": "line",
       "selection": {
        "selector030": {
         "type": "interval"
        },
        "selector040": {
         "bind": "scales",
         "encodings": [
          "x",
          "y"
         ],
         "type": "interval"
        }
       },
       "width": 400
      },
      "image/png": "[encoded data removed]",
      "text/plain": [
       "<VegaLite 3 object>\n",
       "\n",
       "If you see this message, it means the renderer has not been properly enabled\n",
       "for the frontend that you are using. For more information, see\n",
       "https://altair-viz.github.io/user_guide/troubleshooting.html\n"
      ]
     },
     "execution_count": 109,
     "metadata": {},
     "output_type": "execute_result"
    }
   ],
   "source": [
    "points = alt.Chart(df).mark_line().properties(width=400).encode(\n",
    "    x='Year:N',\n",
    "    y='electricity_pc',\n",
    "    color=alt.condition(brush, 'county:N', alt.value('lightgray'))\n",
    ").add_selection(\n",
    "    brush)\n",
    "\n",
    "points.interactive()"
   ]
  },
  {
   "cell_type": "markdown",
   "metadata": {},
   "source": [
    "This figure ensures a pre-existing parrallel trend between the two counties. Both follow a similiar pattern prior to the treatment in 2008. Afterward, we see the the energy consumed per capita plateus in King county and decreases in Santa Clara. This suggests that the carbon tax may be transfered from energy companies to consumers through electrcity costs.  "
   ]
  },
  {
   "cell_type": "markdown",
   "metadata": {},
   "source": [
    "# Gas Consumption per Capita"
   ]
  },
  {
   "cell_type": "code",
   "execution_count": 77,
   "metadata": {
    "jupyter": {
     "source_hidden": true
    }
   },
   "outputs": [
    {
     "data": {
      "text/html": [
       "<table class=\"simpletable\">\n",
       "<caption>OLS Regression Results</caption>\n",
       "<tr>\n",
       "  <th>Dep. Variable:</th>         <td>gas_pc</td>      <th>  R-squared:         </th> <td>   0.940</td>\n",
       "</tr>\n",
       "<tr>\n",
       "  <th>Model:</th>                   <td>OLS</td>       <th>  Adj. R-squared:    </th> <td>   0.930</td>\n",
       "</tr>\n",
       "<tr>\n",
       "  <th>Method:</th>             <td>Least Squares</td>  <th>  F-statistic:       </th> <td>   93.46</td>\n",
       "</tr>\n",
       "<tr>\n",
       "  <th>Date:</th>             <td>Mon, 01 Jun 2020</td> <th>  Prob (F-statistic):</th> <td>3.63e-11</td>\n",
       "</tr>\n",
       "<tr>\n",
       "  <th>Time:</th>                 <td>19:03:40</td>     <th>  Log-Likelihood:    </th> <td> -79.697</td>\n",
       "</tr>\n",
       "<tr>\n",
       "  <th>No. Observations:</th>      <td>    22</td>      <th>  AIC:               </th> <td>   167.4</td>\n",
       "</tr>\n",
       "<tr>\n",
       "  <th>Df Residuals:</th>          <td>    18</td>      <th>  BIC:               </th> <td>   171.8</td>\n",
       "</tr>\n",
       "<tr>\n",
       "  <th>Df Model:</th>              <td>     3</td>      <th>                     </th>     <td> </td>   \n",
       "</tr>\n",
       "<tr>\n",
       "  <th>Covariance Type:</th>      <td>nonrobust</td>    <th>                     </th>     <td> </td>   \n",
       "</tr>\n",
       "</table>\n",
       "<table class=\"simpletable\">\n",
       "<tr>\n",
       "       <td></td>         <th>coef</th>     <th>std err</th>      <th>t</th>      <th>P>|t|</th>  <th>[0.025</th>    <th>0.975]</th>  \n",
       "</tr>\n",
       "<tr>\n",
       "  <th>const</th>      <td>  339.0948</td> <td>    4.478</td> <td>   75.717</td> <td> 0.000</td> <td>  329.686</td> <td>  348.504</td>\n",
       "</tr>\n",
       "<tr>\n",
       "  <th>treatment</th>  <td>  -54.4524</td> <td>    6.334</td> <td>   -8.598</td> <td> 0.000</td> <td>  -67.759</td> <td>  -41.146</td>\n",
       "</tr>\n",
       "<tr>\n",
       "  <th>post</th>       <td>   -1.9660</td> <td>    6.064</td> <td>   -0.324</td> <td> 0.750</td> <td>  -14.706</td> <td>   10.774</td>\n",
       "</tr>\n",
       "<tr>\n",
       "  <th>treatxpost</th> <td>  -26.1165</td> <td>    8.576</td> <td>   -3.045</td> <td> 0.007</td> <td>  -44.133</td> <td>   -8.100</td>\n",
       "</tr>\n",
       "</table>\n",
       "<table class=\"simpletable\">\n",
       "<tr>\n",
       "  <th>Omnibus:</th>       <td> 2.620</td> <th>  Durbin-Watson:     </th> <td>   1.762</td>\n",
       "</tr>\n",
       "<tr>\n",
       "  <th>Prob(Omnibus):</th> <td> 0.270</td> <th>  Jarque-Bera (JB):  </th> <td>   1.845</td>\n",
       "</tr>\n",
       "<tr>\n",
       "  <th>Skew:</th>          <td> 0.706</td> <th>  Prob(JB):          </th> <td>   0.397</td>\n",
       "</tr>\n",
       "<tr>\n",
       "  <th>Kurtosis:</th>      <td> 2.866</td> <th>  Cond. No.          </th> <td>    7.17</td>\n",
       "</tr>\n",
       "</table><br/><br/>Warnings:<br/>[1] Standard Errors assume that the covariance matrix of the errors is correctly specified."
      ],
      "text/plain": [
       "<class 'statsmodels.iolib.summary.Summary'>\n",
       "\"\"\"\n",
       "                            OLS Regression Results                            \n",
       "==============================================================================\n",
       "Dep. Variable:                 gas_pc   R-squared:                       0.940\n",
       "Model:                            OLS   Adj. R-squared:                  0.930\n",
       "Method:                 Least Squares   F-statistic:                     93.46\n",
       "Date:                Mon, 01 Jun 2020   Prob (F-statistic):           3.63e-11\n",
       "Time:                        19:03:40   Log-Likelihood:                -79.697\n",
       "No. Observations:                  22   AIC:                             167.4\n",
       "Df Residuals:                      18   BIC:                             171.8\n",
       "Df Model:                           3                                         \n",
       "Covariance Type:            nonrobust                                         \n",
       "==============================================================================\n",
       "                 coef    std err          t      P>|t|      [0.025      0.975]\n",
       "------------------------------------------------------------------------------\n",
       "const        339.0948      4.478     75.717      0.000     329.686     348.504\n",
       "treatment    -54.4524      6.334     -8.598      0.000     -67.759     -41.146\n",
       "post          -1.9660      6.064     -0.324      0.750     -14.706      10.774\n",
       "treatxpost   -26.1165      8.576     -3.045      0.007     -44.133      -8.100\n",
       "==============================================================================\n",
       "Omnibus:                        2.620   Durbin-Watson:                   1.762\n",
       "Prob(Omnibus):                  0.270   Jarque-Bera (JB):                1.845\n",
       "Skew:                           0.706   Prob(JB):                        0.397\n",
       "Kurtosis:                       2.866   Cond. No.                         7.17\n",
       "==============================================================================\n",
       "\n",
       "Warnings:\n",
       "[1] Standard Errors assume that the covariance matrix of the errors is correctly specified.\n",
       "\"\"\""
      ]
     },
     "execution_count": 77,
     "metadata": {},
     "output_type": "execute_result"
    }
   ],
   "source": [
    "df['gas_pc'] = df['gas'] / df['pop_million']\n",
    "results = sm.OLS(df['gas_pc'], X).fit()\n",
    "results.summary() "
   ]
  },
  {
   "cell_type": "markdown",
   "metadata": {},
   "source": [
    "$\\beta_{0}$: Mean therms consumed per capita in Seattle prior to 2008 \\\n",
    "$\\beta_{Treatment}$: Difference in therms consumed per capita between the two counties prior to 2008 \\\n",
    "$\\beta_{Post}$: Difference in Seattle's therms consumed per capita before and after 2008\\\n",
    "$\\beta_{Treatment * Post}$: Difference in difference estimate of the effect of the carbon tax on therms of gas consumed \n",
    "\n",
    "According to this model, the implementation of the carbon tax decreases gas consumed per capita by 26.11 therms. However, unlike energy we cannot claim to have an appropriate counterfactual in this model."
   ]
  },
  {
   "cell_type": "code",
   "execution_count": 83,
   "metadata": {
    "jupyter": {
     "source_hidden": true
    }
   },
   "outputs": [
    {
     "data": {
      "application/vnd.vegalite.v3+json": {
       "$schema": "https://vega.github.io/schema/vega-lite/v3.4.0.json",
       "config": {
        "mark": {
         "tooltip": null
        },
        "view": {
         "height": 300,
         "width": 400
        }
       },
       "data": {
        "name": "data-47cc739839bd07db5ed065dd10bb3d82"
       },
       "datasets": {
        "data-47cc739839bd07db5ed065dd10bb3d82": [
         {
          "Year": 2003,
          "aqi": 12.06,
          "cost": 11.78,
          "county": "Santa Clara",
          "electricity": 15183.038,
          "electricity_pc": 9075.336521219366,
          "gas": 482.42400000000004,
          "gas_pc": 288.35863717872087,
          "pop_million": 1.673,
          "population": 1673000,
          "post": 0,
          "treatment": 1,
          "treatxpost": 0
         },
         {
          "Year": 2004,
          "aqi": 10.71,
          "cost": 11.35,
          "county": "Santa Clara",
          "electricity": 15359.47,
          "electricity_pc": 9164.361575178998,
          "gas": 510.846,
          "gas_pc": 304.80071599045345,
          "pop_million": 1.676,
          "population": 1676000,
          "post": 0,
          "treatment": 1,
          "treatxpost": 0
         },
         {
          "Year": 2005,
          "aqi": 10.97,
          "cost": 11.63,
          "county": "Santa Clara",
          "electricity": 15566.04,
          "electricity_pc": 9205.2276759314,
          "gas": 462.871,
          "gas_pc": 273.7261975162626,
          "pop_million": 1.691,
          "population": 1691000,
          "post": 0,
          "treatment": 1,
          "treatxpost": 0
         },
         {
          "Year": 2006,
          "aqi": 8.39,
          "cost": 12.82,
          "county": "Santa Clara",
          "electricity": 16058.13,
          "electricity_pc": 9396.214160327676,
          "gas": 485.145,
          "gas_pc": 283.87653598595665,
          "pop_million": 1.709,
          "population": 1709000,
          "post": 0,
          "treatment": 1,
          "treatxpost": 0
         },
         {
          "Year": 2007,
          "aqi": 7.95,
          "cost": 12.8,
          "county": "Santa Clara",
          "electricity": 16459.77,
          "electricity_pc": 9497.847663012117,
          "gas": 472.156,
          "gas_pc": 272.45008655510674,
          "pop_million": 1.733,
          "population": 1733000,
          "post": 0,
          "treatment": 1,
          "treatxpost": 0
         },
         {
          "Year": 2008,
          "aqi": 7.83,
          "cost": 12.49,
          "county": "Santa Clara",
          "electricity": 16733.2,
          "electricity_pc": 9480.566572237962,
          "gas": 473.171,
          "gas_pc": 268.085552407932,
          "pop_million": 1.765,
          "population": 1765000,
          "post": 1,
          "treatment": 1,
          "treatxpost": 1
         },
         {
          "Year": 2009,
          "aqi": 6.86,
          "cost": 13.24,
          "county": "Santa Clara",
          "electricity": 16564.91,
          "electricity_pc": 9243.81138392857,
          "gas": 461.89,
          "gas_pc": 257.75111607142856,
          "pop_million": 1.792,
          "population": 1792000,
          "post": 1,
          "treatment": 1,
          "treatxpost": 1
         },
         {
          "Year": 2010,
          "aqi": 5.95,
          "cost": 13.01,
          "county": "Santa Clara",
          "electricity": 16271.12,
          "electricity_pc": 9110.36954087346,
          "gas": 457.56199999999995,
          "gas_pc": 256.1937290033594,
          "pop_million": 1.786,
          "population": 1786000,
          "post": 1,
          "treatment": 1,
          "treatxpost": 1
         },
         {
          "Year": 2011,
          "aqi": 7.04,
          "cost": 13.05,
          "county": "Santa Clara",
          "electricity": 16553.28,
          "electricity_pc": 9135.364238410595,
          "gas": 471.69800000000004,
          "gas_pc": 260.31898454746135,
          "pop_million": 1.812,
          "population": 1812000,
          "post": 1,
          "treatment": 1,
          "treatxpost": 1
         },
         {
          "Year": 2012,
          "aqi": 6.73,
          "cost": 13.53,
          "county": "Santa Clara",
          "electricity": 16507.68,
          "electricity_pc": 8981.32752992383,
          "gas": 454.57800000000003,
          "gas_pc": 247.32208922742112,
          "pop_million": 1.838,
          "population": 1838000,
          "post": 1,
          "treatment": 1,
          "treatxpost": 1
         },
         {
          "Year": 2013,
          "aqi": 7.59,
          "cost": 14.3,
          "county": "Santa Clara",
          "electricity": 16578.86,
          "electricity_pc": 8884.70525187567,
          "gas": 465.918,
          "gas_pc": 249.68810289389066,
          "pop_million": 1.866,
          "population": 1866000,
          "post": 1,
          "treatment": 1,
          "treatxpost": 1
         },
         {
          "Year": 2003,
          "aqi": 21.62,
          "cost": 5.86,
          "county": "King",
          "electricity": 19342.69,
          "electricity_pc": 10946.627051499718,
          "gas": 600.143,
          "gas_pc": 339.6395019807584,
          "pop_million": 1.767,
          "population": 1767000,
          "post": 0,
          "treatment": 0,
          "treatxpost": 0
         },
         {
          "Year": 2004,
          "aqi": 19.42,
          "cost": 5.8,
          "county": "King",
          "electricity": 19518.533,
          "electricity_pc": 10971.631815626757,
          "gas": 591.114,
          "gas_pc": 332.27318718381116,
          "pop_million": 1.779,
          "population": 1779000,
          "post": 0,
          "treatment": 0,
          "treatxpost": 0
         },
         {
          "Year": 2005,
          "aqi": 19.45,
          "cost": 5.87,
          "county": "King",
          "electricity": 19928.832,
          "electricity_pc": 11071.573333333332,
          "gas": 602.144,
          "gas_pc": 334.52444444444444,
          "pop_million": 1.8,
          "population": 1800000,
          "post": 0,
          "treatment": 0,
          "treatxpost": 0
         },
         {
          "Year": 2006,
          "aqi": 13.67,
          "cost": 6.14,
          "county": "King",
          "electricity": 20514.974,
          "electricity_pc": 11222.633479212252,
          "gas": 620.148,
          "gas_pc": 339.24945295404814,
          "pop_million": 1.828,
          "population": 1828000,
          "post": 0,
          "treatment": 0,
          "treatxpost": 0
         },
         {
          "Year": 2007,
          "aqi": 10.62,
          "cost": 6.37,
          "county": "King",
          "electricity": 20925.273999999998,
          "electricity_pc": 11292.646519158121,
          "gas": 648.156,
          "gas_pc": 349.7873718294657,
          "pop_million": 1.853,
          "population": 1853000,
          "post": 0,
          "treatment": 0,
          "treatxpost": 0
         },
         {
          "Year": 2008,
          "aqi": 9.45,
          "cost": 6.55,
          "county": "King",
          "electricity": 21247.652000000002,
          "electricity_pc": 11295.934077618289,
          "gas": 671.1610000000001,
          "gas_pc": 356.81073896863376,
          "pop_million": 1.881,
          "population": 1881000,
          "post": 1,
          "treatment": 0,
          "treatxpost": 0
         },
         {
          "Year": 2009,
          "aqi": 8.27,
          "cost": 6.59,
          "county": "King",
          "electricity": 21189.037999999997,
          "electricity_pc": 11047.465067778936,
          "gas": 656.1569999999999,
          "gas_pc": 342.1047966631908,
          "pop_million": 1.918,
          "population": 1918000,
          "post": 1,
          "treatment": 0,
          "treatxpost": 0
         },
         {
          "Year": 2010,
          "aqi": 3.41,
          "cost": 6.66,
          "county": "King",
          "electricity": 21385.092999999997,
          "electricity_pc": 11034.61971104231,
          "gas": 651.934,
          "gas_pc": 336.3952528379773,
          "pop_million": 1.938,
          "population": 1938000,
          "post": 1,
          "treatment": 0,
          "treatxpost": 0
         },
         {
          "Year": 2011,
          "aqi": 3.43,
          "cost": 6.78,
          "county": "King",
          "electricity": 21409.691000000003,
          "electricity_pc": 10845.841438703143,
          "gas": 641.754,
          "gas_pc": 325.1033434650456,
          "pop_million": 1.974,
          "population": 1974000,
          "post": 1,
          "treatment": 0,
          "treatxpost": 0
         },
         {
          "Year": 2012,
          "aqi": 3.18,
          "cost": 6.94,
          "county": "King",
          "electricity": 21398.477000000003,
          "electricity_pc": 10640.714569865739,
          "gas": 673.153,
          "gas_pc": 334.73545499751367,
          "pop_million": 2.011,
          "population": 2011000,
          "post": 1,
          "treatment": 0,
          "treatxpost": 0
         },
         {
          "Year": 2013,
          "aqi": 3.41,
          "cost": 7.09,
          "county": "King",
          "electricity": 21463.55,
          "electricity_pc": 10485.368832437713,
          "gas": 670.645,
          "gas_pc": 327.6233512457254,
          "pop_million": 2.047,
          "population": 2047000,
          "post": 1,
          "treatment": 0,
          "treatxpost": 0
         }
        ]
       },
       "layer": [
        {
         "encoding": {
          "detail": {
           "field": "county",
           "type": "nominal"
          },
          "x": {
           "field": "gas_pc",
           "type": "quantitative"
          },
          "y": {
           "field": "county",
           "type": "nominal"
          }
         },
         "mark": {
          "color": "#db646f",
          "type": "line"
         }
        },
        {
         "encoding": {
          "color": {
           "field": "Year",
           "scale": {
            "domain": [
             "2005",
             "2011"
            ],
            "range": [
             "#e6959c",
             "#911a24"
            ]
           },
           "type": "ordinal"
          },
          "x": {
           "field": "gas_pc",
           "type": "quantitative"
          },
          "y": {
           "field": "county",
           "type": "nominal"
          }
         },
         "mark": {
          "filled": true,
          "opacity": 1,
          "size": 100,
          "type": "point"
         },
         "selection": {
          "selector027": {
           "bind": "scales",
           "encodings": [
            "x",
            "y"
           ],
           "type": "interval"
          }
         }
        }
       ],
       "transform": [
        {
         "filter": {
          "field": "county",
          "oneOf": [
           "Santa Clara",
           "King"
          ]
         }
        },
        {
         "filter": {
          "field": "Year",
          "oneOf": [
           2005,
           2011
          ]
         }
        }
       ]
      },
      "image/png": "[encoded data removed]",
      "text/plain": [
       "<VegaLite 3 object>\n",
       "\n",
       "If you see this message, it means the renderer has not been properly enabled\n",
       "for the frontend that you are using. For more information, see\n",
       "https://altair-viz.github.io/user_guide/troubleshooting.html\n"
      ]
     },
     "execution_count": 83,
     "metadata": {},
     "output_type": "execute_result"
    }
   ],
   "source": [
    "chart = alt.layer(\n",
    "    data=df\n",
    ").transform_filter(\n",
    "    filter={\"field\": 'county',\n",
    "            \"oneOf\": [\"Santa Clara\", \"King\"]}\n",
    ").transform_filter(\n",
    "    filter={'field': 'Year',\n",
    "            \"oneOf\": [2005, 2011]}\n",
    ")\n",
    "\n",
    "chart += alt.Chart().mark_line(color='#db646f').encode(\n",
    "    x='gas_pc:Q',\n",
    "    y='county:N',\n",
    "    detail='county:N'\n",
    ")\n",
    "\n",
    "chart += alt.Chart().mark_point(\n",
    "    size=100,\n",
    "    opacity=1,\n",
    "    filled=True\n",
    ").encode(\n",
    "    x='gas_pc:Q',\n",
    "    y='county:N',\n",
    "    color=alt.Color('Year:O',\n",
    "        scale=alt.Scale(\n",
    "            domain=['2005', '2011'],\n",
    "            range=['#e6959c', '#911a24']\n",
    "        )\n",
    "    )\n",
    ").interactive()\n",
    "\n",
    "chart"
   ]
  },
  {
   "cell_type": "code",
   "execution_count": 84,
   "metadata": {
    "jupyter": {
     "source_hidden": true
    }
   },
   "outputs": [
    {
     "data": {
      "application/vnd.vegalite.v3+json": {
       "$schema": "https://vega.github.io/schema/vega-lite/v3.4.0.json",
       "config": {
        "mark": {
         "tooltip": null
        },
        "view": {
         "height": 300,
         "width": 400
        }
       },
       "data": {
        "name": "data-47cc739839bd07db5ed065dd10bb3d82"
       },
       "datasets": {
        "data-47cc739839bd07db5ed065dd10bb3d82": [
         {
          "Year": 2003,
          "aqi": 12.06,
          "cost": 11.78,
          "county": "Santa Clara",
          "electricity": 15183.038,
          "electricity_pc": 9075.336521219366,
          "gas": 482.42400000000004,
          "gas_pc": 288.35863717872087,
          "pop_million": 1.673,
          "population": 1673000,
          "post": 0,
          "treatment": 1,
          "treatxpost": 0
         },
         {
          "Year": 2004,
          "aqi": 10.71,
          "cost": 11.35,
          "county": "Santa Clara",
          "electricity": 15359.47,
          "electricity_pc": 9164.361575178998,
          "gas": 510.846,
          "gas_pc": 304.80071599045345,
          "pop_million": 1.676,
          "population": 1676000,
          "post": 0,
          "treatment": 1,
          "treatxpost": 0
         },
         {
          "Year": 2005,
          "aqi": 10.97,
          "cost": 11.63,
          "county": "Santa Clara",
          "electricity": 15566.04,
          "electricity_pc": 9205.2276759314,
          "gas": 462.871,
          "gas_pc": 273.7261975162626,
          "pop_million": 1.691,
          "population": 1691000,
          "post": 0,
          "treatment": 1,
          "treatxpost": 0
         },
         {
          "Year": 2006,
          "aqi": 8.39,
          "cost": 12.82,
          "county": "Santa Clara",
          "electricity": 16058.13,
          "electricity_pc": 9396.214160327676,
          "gas": 485.145,
          "gas_pc": 283.87653598595665,
          "pop_million": 1.709,
          "population": 1709000,
          "post": 0,
          "treatment": 1,
          "treatxpost": 0
         },
         {
          "Year": 2007,
          "aqi": 7.95,
          "cost": 12.8,
          "county": "Santa Clara",
          "electricity": 16459.77,
          "electricity_pc": 9497.847663012117,
          "gas": 472.156,
          "gas_pc": 272.45008655510674,
          "pop_million": 1.733,
          "population": 1733000,
          "post": 0,
          "treatment": 1,
          "treatxpost": 0
         },
         {
          "Year": 2008,
          "aqi": 7.83,
          "cost": 12.49,
          "county": "Santa Clara",
          "electricity": 16733.2,
          "electricity_pc": 9480.566572237962,
          "gas": 473.171,
          "gas_pc": 268.085552407932,
          "pop_million": 1.765,
          "population": 1765000,
          "post": 1,
          "treatment": 1,
          "treatxpost": 1
         },
         {
          "Year": 2009,
          "aqi": 6.86,
          "cost": 13.24,
          "county": "Santa Clara",
          "electricity": 16564.91,
          "electricity_pc": 9243.81138392857,
          "gas": 461.89,
          "gas_pc": 257.75111607142856,
          "pop_million": 1.792,
          "population": 1792000,
          "post": 1,
          "treatment": 1,
          "treatxpost": 1
         },
         {
          "Year": 2010,
          "aqi": 5.95,
          "cost": 13.01,
          "county": "Santa Clara",
          "electricity": 16271.12,
          "electricity_pc": 9110.36954087346,
          "gas": 457.56199999999995,
          "gas_pc": 256.1937290033594,
          "pop_million": 1.786,
          "population": 1786000,
          "post": 1,
          "treatment": 1,
          "treatxpost": 1
         },
         {
          "Year": 2011,
          "aqi": 7.04,
          "cost": 13.05,
          "county": "Santa Clara",
          "electricity": 16553.28,
          "electricity_pc": 9135.364238410595,
          "gas": 471.69800000000004,
          "gas_pc": 260.31898454746135,
          "pop_million": 1.812,
          "population": 1812000,
          "post": 1,
          "treatment": 1,
          "treatxpost": 1
         },
         {
          "Year": 2012,
          "aqi": 6.73,
          "cost": 13.53,
          "county": "Santa Clara",
          "electricity": 16507.68,
          "electricity_pc": 8981.32752992383,
          "gas": 454.57800000000003,
          "gas_pc": 247.32208922742112,
          "pop_million": 1.838,
          "population": 1838000,
          "post": 1,
          "treatment": 1,
          "treatxpost": 1
         },
         {
          "Year": 2013,
          "aqi": 7.59,
          "cost": 14.3,
          "county": "Santa Clara",
          "electricity": 16578.86,
          "electricity_pc": 8884.70525187567,
          "gas": 465.918,
          "gas_pc": 249.68810289389066,
          "pop_million": 1.866,
          "population": 1866000,
          "post": 1,
          "treatment": 1,
          "treatxpost": 1
         },
         {
          "Year": 2003,
          "aqi": 21.62,
          "cost": 5.86,
          "county": "King",
          "electricity": 19342.69,
          "electricity_pc": 10946.627051499718,
          "gas": 600.143,
          "gas_pc": 339.6395019807584,
          "pop_million": 1.767,
          "population": 1767000,
          "post": 0,
          "treatment": 0,
          "treatxpost": 0
         },
         {
          "Year": 2004,
          "aqi": 19.42,
          "cost": 5.8,
          "county": "King",
          "electricity": 19518.533,
          "electricity_pc": 10971.631815626757,
          "gas": 591.114,
          "gas_pc": 332.27318718381116,
          "pop_million": 1.779,
          "population": 1779000,
          "post": 0,
          "treatment": 0,
          "treatxpost": 0
         },
         {
          "Year": 2005,
          "aqi": 19.45,
          "cost": 5.87,
          "county": "King",
          "electricity": 19928.832,
          "electricity_pc": 11071.573333333332,
          "gas": 602.144,
          "gas_pc": 334.52444444444444,
          "pop_million": 1.8,
          "population": 1800000,
          "post": 0,
          "treatment": 0,
          "treatxpost": 0
         },
         {
          "Year": 2006,
          "aqi": 13.67,
          "cost": 6.14,
          "county": "King",
          "electricity": 20514.974,
          "electricity_pc": 11222.633479212252,
          "gas": 620.148,
          "gas_pc": 339.24945295404814,
          "pop_million": 1.828,
          "population": 1828000,
          "post": 0,
          "treatment": 0,
          "treatxpost": 0
         },
         {
          "Year": 2007,
          "aqi": 10.62,
          "cost": 6.37,
          "county": "King",
          "electricity": 20925.273999999998,
          "electricity_pc": 11292.646519158121,
          "gas": 648.156,
          "gas_pc": 349.7873718294657,
          "pop_million": 1.853,
          "population": 1853000,
          "post": 0,
          "treatment": 0,
          "treatxpost": 0
         },
         {
          "Year": 2008,
          "aqi": 9.45,
          "cost": 6.55,
          "county": "King",
          "electricity": 21247.652000000002,
          "electricity_pc": 11295.934077618289,
          "gas": 671.1610000000001,
          "gas_pc": 356.81073896863376,
          "pop_million": 1.881,
          "population": 1881000,
          "post": 1,
          "treatment": 0,
          "treatxpost": 0
         },
         {
          "Year": 2009,
          "aqi": 8.27,
          "cost": 6.59,
          "county": "King",
          "electricity": 21189.037999999997,
          "electricity_pc": 11047.465067778936,
          "gas": 656.1569999999999,
          "gas_pc": 342.1047966631908,
          "pop_million": 1.918,
          "population": 1918000,
          "post": 1,
          "treatment": 0,
          "treatxpost": 0
         },
         {
          "Year": 2010,
          "aqi": 3.41,
          "cost": 6.66,
          "county": "King",
          "electricity": 21385.092999999997,
          "electricity_pc": 11034.61971104231,
          "gas": 651.934,
          "gas_pc": 336.3952528379773,
          "pop_million": 1.938,
          "population": 1938000,
          "post": 1,
          "treatment": 0,
          "treatxpost": 0
         },
         {
          "Year": 2011,
          "aqi": 3.43,
          "cost": 6.78,
          "county": "King",
          "electricity": 21409.691000000003,
          "electricity_pc": 10845.841438703143,
          "gas": 641.754,
          "gas_pc": 325.1033434650456,
          "pop_million": 1.974,
          "population": 1974000,
          "post": 1,
          "treatment": 0,
          "treatxpost": 0
         },
         {
          "Year": 2012,
          "aqi": 3.18,
          "cost": 6.94,
          "county": "King",
          "electricity": 21398.477000000003,
          "electricity_pc": 10640.714569865739,
          "gas": 673.153,
          "gas_pc": 334.73545499751367,
          "pop_million": 2.011,
          "population": 2011000,
          "post": 1,
          "treatment": 0,
          "treatxpost": 0
         },
         {
          "Year": 2013,
          "aqi": 3.41,
          "cost": 7.09,
          "county": "King",
          "electricity": 21463.55,
          "electricity_pc": 10485.368832437713,
          "gas": 670.645,
          "gas_pc": 327.6233512457254,
          "pop_million": 2.047,
          "population": 2047000,
          "post": 1,
          "treatment": 0,
          "treatxpost": 0
         }
        ]
       },
       "encoding": {
        "color": {
         "condition": {
          "field": "county",
          "selection": "selector021",
          "type": "nominal"
         },
         "value": "lightgray"
        },
        "x": {
         "field": "Year",
         "type": "nominal"
        },
        "y": {
         "field": "gas_pc",
         "type": "quantitative"
        }
       },
       "mark": "line",
       "selection": {
        "selector021": {
         "type": "interval"
        },
        "selector028": {
         "bind": "scales",
         "encodings": [
          "x",
          "y"
         ],
         "type": "interval"
        }
       },
       "width": 400
      },
      "image/png": "[encoded data removed]",
      "text/plain": [
       "<VegaLite 3 object>\n",
       "\n",
       "If you see this message, it means the renderer has not been properly enabled\n",
       "for the frontend that you are using. For more information, see\n",
       "https://altair-viz.github.io/user_guide/troubleshooting.html\n"
      ]
     },
     "execution_count": 84,
     "metadata": {},
     "output_type": "execute_result"
    }
   ],
   "source": [
    "points = alt.Chart(df).mark_line().properties(width=400).encode(\n",
    "    x='Year:N',\n",
    "    y='gas_pc',\n",
    "    color=alt.condition(brush, 'county:N', alt.value('lightgray'))\n",
    ").add_selection(\n",
    "    brush)\n",
    "\n",
    "points.interactive()"
   ]
  },
  {
   "cell_type": "markdown",
   "metadata": {},
   "source": [
    "# Cost of Energy"
   ]
  },
  {
   "cell_type": "markdown",
   "metadata": {},
   "source": [
    "It is often the case that producers transfer the burden of a new tax on consumers. This model will try to estimate the increase in costs expirenced by Bay Area residents and businesses after the tax was instated. "
   ]
  },
  {
   "cell_type": "code",
   "execution_count": 23,
   "metadata": {
    "jupyter": {
     "source_hidden": true
    }
   },
   "outputs": [
    {
     "data": {
      "text/html": [
       "<table class=\"simpletable\">\n",
       "<caption>OLS Regression Results</caption>\n",
       "<tr>\n",
       "  <th>Dep. Variable:</th>          <td>cost</td>       <th>  R-squared:         </th> <td>   0.982</td>\n",
       "</tr>\n",
       "<tr>\n",
       "  <th>Model:</th>                   <td>OLS</td>       <th>  Adj. R-squared:    </th> <td>   0.979</td>\n",
       "</tr>\n",
       "<tr>\n",
       "  <th>Method:</th>             <td>Least Squares</td>  <th>  F-statistic:       </th> <td>   319.9</td>\n",
       "</tr>\n",
       "<tr>\n",
       "  <th>Date:</th>             <td>Mon, 01 Jun 2020</td> <th>  Prob (F-statistic):</th> <td>8.48e-16</td>\n",
       "</tr>\n",
       "<tr>\n",
       "  <th>Time:</th>                 <td>14:20:22</td>     <th>  Log-Likelihood:    </th> <td> -13.007</td>\n",
       "</tr>\n",
       "<tr>\n",
       "  <th>No. Observations:</th>      <td>    22</td>      <th>  AIC:               </th> <td>   34.01</td>\n",
       "</tr>\n",
       "<tr>\n",
       "  <th>Df Residuals:</th>          <td>    18</td>      <th>  BIC:               </th> <td>   38.38</td>\n",
       "</tr>\n",
       "<tr>\n",
       "  <th>Df Model:</th>              <td>     3</td>      <th>                     </th>     <td> </td>   \n",
       "</tr>\n",
       "<tr>\n",
       "  <th>Covariance Type:</th>      <td>nonrobust</td>    <th>                     </th>     <td> </td>   \n",
       "</tr>\n",
       "</table>\n",
       "<table class=\"simpletable\">\n",
       "<tr>\n",
       "       <td></td>         <th>coef</th>     <th>std err</th>      <th>t</th>      <th>P>|t|</th>  <th>[0.025</th>    <th>0.975]</th>  \n",
       "</tr>\n",
       "<tr>\n",
       "  <th>const</th>      <td>    6.0080</td> <td>    0.216</td> <td>   27.805</td> <td> 0.000</td> <td>    5.554</td> <td>    6.462</td>\n",
       "</tr>\n",
       "<tr>\n",
       "  <th>treatment</th>  <td>    6.0680</td> <td>    0.306</td> <td>   19.857</td> <td> 0.000</td> <td>    5.426</td> <td>    6.710</td>\n",
       "</tr>\n",
       "<tr>\n",
       "  <th>post</th>       <td>    0.7603</td> <td>    0.293</td> <td>    2.599</td> <td> 0.018</td> <td>    0.146</td> <td>    1.375</td>\n",
       "</tr>\n",
       "<tr>\n",
       "  <th>treatxpost</th> <td>    0.4337</td> <td>    0.414</td> <td>    1.048</td> <td> 0.308</td> <td>   -0.436</td> <td>    1.303</td>\n",
       "</tr>\n",
       "</table>\n",
       "<table class=\"simpletable\">\n",
       "<tr>\n",
       "  <th>Omnibus:</th>       <td> 1.808</td> <th>  Durbin-Watson:     </th> <td>   1.740</td>\n",
       "</tr>\n",
       "<tr>\n",
       "  <th>Prob(Omnibus):</th> <td> 0.405</td> <th>  Jarque-Bera (JB):  </th> <td>   0.999</td>\n",
       "</tr>\n",
       "<tr>\n",
       "  <th>Skew:</th>          <td> 0.521</td> <th>  Prob(JB):          </th> <td>   0.607</td>\n",
       "</tr>\n",
       "<tr>\n",
       "  <th>Kurtosis:</th>      <td> 3.051</td> <th>  Cond. No.          </th> <td>    7.17</td>\n",
       "</tr>\n",
       "</table><br/><br/>Warnings:<br/>[1] Standard Errors assume that the covariance matrix of the errors is correctly specified."
      ],
      "text/plain": [
       "<class 'statsmodels.iolib.summary.Summary'>\n",
       "\"\"\"\n",
       "                            OLS Regression Results                            \n",
       "==============================================================================\n",
       "Dep. Variable:                   cost   R-squared:                       0.982\n",
       "Model:                            OLS   Adj. R-squared:                  0.979\n",
       "Method:                 Least Squares   F-statistic:                     319.9\n",
       "Date:                Mon, 01 Jun 2020   Prob (F-statistic):           8.48e-16\n",
       "Time:                        14:20:22   Log-Likelihood:                -13.007\n",
       "No. Observations:                  22   AIC:                             34.01\n",
       "Df Residuals:                      18   BIC:                             38.38\n",
       "Df Model:                           3                                         \n",
       "Covariance Type:            nonrobust                                         \n",
       "==============================================================================\n",
       "                 coef    std err          t      P>|t|      [0.025      0.975]\n",
       "------------------------------------------------------------------------------\n",
       "const          6.0080      0.216     27.805      0.000       5.554       6.462\n",
       "treatment      6.0680      0.306     19.857      0.000       5.426       6.710\n",
       "post           0.7603      0.293      2.599      0.018       0.146       1.375\n",
       "treatxpost     0.4337      0.414      1.048      0.308      -0.436       1.303\n",
       "==============================================================================\n",
       "Omnibus:                        1.808   Durbin-Watson:                   1.740\n",
       "Prob(Omnibus):                  0.405   Jarque-Bera (JB):                0.999\n",
       "Skew:                           0.521   Prob(JB):                        0.607\n",
       "Kurtosis:                       3.051   Cond. No.                         7.17\n",
       "==============================================================================\n",
       "\n",
       "Warnings:\n",
       "[1] Standard Errors assume that the covariance matrix of the errors is correctly specified.\n",
       "\"\"\""
      ]
     },
     "execution_count": 23,
     "metadata": {},
     "output_type": "execute_result"
    }
   ],
   "source": [
    "results = sm.OLS(df['cost'], X).fit()\n",
    "results.summary()"
   ]
  },
  {
   "cell_type": "markdown",
   "metadata": {},
   "source": [
    "$\\beta_{0}$: Mean cost of energy in Seattle prior to 2008 (cents per kwh) \\\n",
    "$\\beta_{Treatment}$: Difference in cost of energy between the two counties prior to 2008 (cents per kwh)\\\n",
    "$\\beta_{Post}$: Difference in Seattle's average cost of energy before and after 2008 (cents per kwh)\\\n",
    "$\\beta_{Treatment * Post}$: Difference in difference estimate of the effect of the carbon tax on the cost of energy\\\n",
    "\n",
    "According to this model, the cost of energy increased by 0.43 cents per killowatt-hour due to the implementation of the carbon tax. A modest increase considering the heavy taxes burdened by gass and power companies. Again let us visualize the data. \n"
   ]
  },
  {
   "cell_type": "code",
   "execution_count": 24,
   "metadata": {
    "jupyter": {
     "source_hidden": true
    }
   },
   "outputs": [
    {
     "data": {
      "application/vnd.vegalite.v3+json": {
       "$schema": "https://vega.github.io/schema/vega-lite/v3.4.0.json",
       "config": {
        "mark": {
         "tooltip": null
        },
        "view": {
         "height": 300,
         "width": 400
        }
       },
       "data": {
        "name": "data-06e6aa4ca017e1e3706bf5c21510397f"
       },
       "datasets": {
        "data-06e6aa4ca017e1e3706bf5c21510397f": [
         {
          "Year": 2003,
          "aqi": 12.06,
          "cost": 11.78,
          "county": "Santa Clara",
          "electricity": 15183.038,
          "gas": 482.42400000000004,
          "post": 0,
          "treatment": 1
         },
         {
          "Year": 2004,
          "aqi": 10.71,
          "cost": 11.35,
          "county": "Santa Clara",
          "electricity": 15359.47,
          "gas": 510.846,
          "post": 0,
          "treatment": 1
         },
         {
          "Year": 2005,
          "aqi": 10.97,
          "cost": 11.63,
          "county": "Santa Clara",
          "electricity": 15566.04,
          "gas": 462.871,
          "post": 0,
          "treatment": 1
         },
         {
          "Year": 2006,
          "aqi": 8.39,
          "cost": 12.82,
          "county": "Santa Clara",
          "electricity": 16058.13,
          "gas": 485.145,
          "post": 0,
          "treatment": 1
         },
         {
          "Year": 2007,
          "aqi": 7.95,
          "cost": 12.8,
          "county": "Santa Clara",
          "electricity": 16459.77,
          "gas": 472.156,
          "post": 0,
          "treatment": 1
         },
         {
          "Year": 2008,
          "aqi": 7.83,
          "cost": 12.49,
          "county": "Santa Clara",
          "electricity": 16733.2,
          "gas": 473.171,
          "post": 1,
          "treatment": 1
         },
         {
          "Year": 2009,
          "aqi": 6.86,
          "cost": 13.24,
          "county": "Santa Clara",
          "electricity": 16564.91,
          "gas": 461.89,
          "post": 1,
          "treatment": 1
         },
         {
          "Year": 2010,
          "aqi": 5.95,
          "cost": 13.01,
          "county": "Santa Clara",
          "electricity": 16271.12,
          "gas": 457.56199999999995,
          "post": 1,
          "treatment": 1
         },
         {
          "Year": 2011,
          "aqi": 7.04,
          "cost": 13.05,
          "county": "Santa Clara",
          "electricity": 16553.28,
          "gas": 471.69800000000004,
          "post": 1,
          "treatment": 1
         },
         {
          "Year": 2012,
          "aqi": 6.73,
          "cost": 13.53,
          "county": "Santa Clara",
          "electricity": 16507.68,
          "gas": 454.57800000000003,
          "post": 1,
          "treatment": 1
         },
         {
          "Year": 2013,
          "aqi": 7.59,
          "cost": 14.3,
          "county": "Santa Clara",
          "electricity": 16578.86,
          "gas": 465.918,
          "post": 1,
          "treatment": 1
         },
         {
          "Year": 2003,
          "aqi": 21.62,
          "cost": 5.86,
          "county": "King",
          "electricity": 19342.69,
          "gas": 600.143,
          "post": 0,
          "treatment": 0
         },
         {
          "Year": 2004,
          "aqi": 19.42,
          "cost": 5.8,
          "county": "King",
          "electricity": 19518.533,
          "gas": 591.114,
          "post": 0,
          "treatment": 0
         },
         {
          "Year": 2005,
          "aqi": 19.45,
          "cost": 5.87,
          "county": "King",
          "electricity": 19928.832,
          "gas": 602.144,
          "post": 0,
          "treatment": 0
         },
         {
          "Year": 2006,
          "aqi": 13.67,
          "cost": 6.14,
          "county": "King",
          "electricity": 20514.974,
          "gas": 620.148,
          "post": 0,
          "treatment": 0
         },
         {
          "Year": 2007,
          "aqi": 10.62,
          "cost": 6.37,
          "county": "King",
          "electricity": 20925.273999999998,
          "gas": 648.156,
          "post": 0,
          "treatment": 0
         },
         {
          "Year": 2008,
          "aqi": 9.45,
          "cost": 6.55,
          "county": "King",
          "electricity": 21247.652000000002,
          "gas": 671.1610000000001,
          "post": 1,
          "treatment": 0
         },
         {
          "Year": 2009,
          "aqi": 8.27,
          "cost": 6.59,
          "county": "King",
          "electricity": 21189.037999999997,
          "gas": 656.1569999999999,
          "post": 1,
          "treatment": 0
         },
         {
          "Year": 2010,
          "aqi": 3.41,
          "cost": 6.66,
          "county": "King",
          "electricity": 21385.092999999997,
          "gas": 651.934,
          "post": 1,
          "treatment": 0
         },
         {
          "Year": 2011,
          "aqi": 3.43,
          "cost": 6.78,
          "county": "King",
          "electricity": 21409.691000000003,
          "gas": 641.754,
          "post": 1,
          "treatment": 0
         },
         {
          "Year": 2012,
          "aqi": 3.18,
          "cost": 6.94,
          "county": "King",
          "electricity": 21398.477000000003,
          "gas": 673.153,
          "post": 1,
          "treatment": 0
         },
         {
          "Year": 2013,
          "aqi": 3.41,
          "cost": 7.09,
          "county": "King",
          "electricity": 21463.55,
          "gas": 670.645,
          "post": 1,
          "treatment": 0
         }
        ]
       },
       "layer": [
        {
         "encoding": {
          "detail": {
           "field": "county",
           "type": "nominal"
          },
          "x": {
           "field": "cost",
           "type": "quantitative"
          },
          "y": {
           "field": "county",
           "type": "nominal"
          }
         },
         "mark": {
          "color": "#db646f",
          "type": "line"
         }
        },
        {
         "encoding": {
          "color": {
           "field": "Year",
           "scale": {
            "domain": [
             "2005",
             "2011"
            ],
            "range": [
             "#e6959c",
             "#911a24"
            ]
           },
           "type": "ordinal"
          },
          "x": {
           "field": "cost",
           "type": "quantitative"
          },
          "y": {
           "field": "county",
           "type": "nominal"
          }
         },
         "mark": {
          "filled": true,
          "opacity": 1,
          "size": 100,
          "type": "point"
         },
         "selection": {
          "selector011": {
           "bind": "scales",
           "encodings": [
            "x",
            "y"
           ],
           "type": "interval"
          }
         }
        }
       ],
       "transform": [
        {
         "filter": {
          "field": "county",
          "oneOf": [
           "Santa Clara",
           "King"
          ]
         }
        },
        {
         "filter": {
          "field": "Year",
          "oneOf": [
           2005,
           2011
          ]
         }
        }
       ]
      },
      "image/png": "[encoded data removed]",
      "text/plain": [
       "<VegaLite 3 object>\n",
       "\n",
       "If you see this message, it means the renderer has not been properly enabled\n",
       "for the frontend that you are using. For more information, see\n",
       "https://altair-viz.github.io/user_guide/troubleshooting.html\n"
      ]
     },
     "execution_count": 24,
     "metadata": {},
     "output_type": "execute_result"
    }
   ],
   "source": [
    "chart = alt.layer(\n",
    "    data=df\n",
    ").transform_filter(\n",
    "    filter={\"field\": 'county',\n",
    "            \"oneOf\": [\"Santa Clara\", \"King\"]}\n",
    ").transform_filter(\n",
    "    filter={'field': 'Year',\n",
    "            \"oneOf\": [2005, 2011]}\n",
    ")\n",
    "\n",
    "chart += alt.Chart().mark_line(color='#db646f').encode(\n",
    "    x='cost:Q',\n",
    "    y='county:N',\n",
    "    detail='county:N'\n",
    ")\n",
    "\n",
    "chart += alt.Chart().mark_point(\n",
    "    size=100,\n",
    "    opacity=1,\n",
    "    filled=True\n",
    ").encode(\n",
    "    x='cost:Q',\n",
    "    y='county:N',\n",
    "    color=alt.Color('Year:O',\n",
    "        scale=alt.Scale(\n",
    "            domain=['2005', '2011'],\n",
    "            range=['#e6959c', '#911a24']\n",
    "        )\n",
    "    )\n",
    ").interactive()\n",
    "\n",
    "chart"
   ]
  },
  {
   "cell_type": "code",
   "execution_count": 79,
   "metadata": {
    "jupyter": {
     "source_hidden": true
    }
   },
   "outputs": [
    {
     "data": {
      "application/vnd.vegalite.v3+json": {
       "$schema": "https://vega.github.io/schema/vega-lite/v3.4.0.json",
       "config": {
        "mark": {
         "tooltip": null
        },
        "view": {
         "height": 300,
         "width": 400
        }
       },
       "data": {
        "name": "data-47cc739839bd07db5ed065dd10bb3d82"
       },
       "datasets": {
        "data-47cc739839bd07db5ed065dd10bb3d82": [
         {
          "Year": 2003,
          "aqi": 12.06,
          "cost": 11.78,
          "county": "Santa Clara",
          "electricity": 15183.038,
          "electricity_pc": 9075.336521219366,
          "gas": 482.42400000000004,
          "gas_pc": 288.35863717872087,
          "pop_million": 1.673,
          "population": 1673000,
          "post": 0,
          "treatment": 1,
          "treatxpost": 0
         },
         {
          "Year": 2004,
          "aqi": 10.71,
          "cost": 11.35,
          "county": "Santa Clara",
          "electricity": 15359.47,
          "electricity_pc": 9164.361575178998,
          "gas": 510.846,
          "gas_pc": 304.80071599045345,
          "pop_million": 1.676,
          "population": 1676000,
          "post": 0,
          "treatment": 1,
          "treatxpost": 0
         },
         {
          "Year": 2005,
          "aqi": 10.97,
          "cost": 11.63,
          "county": "Santa Clara",
          "electricity": 15566.04,
          "electricity_pc": 9205.2276759314,
          "gas": 462.871,
          "gas_pc": 273.7261975162626,
          "pop_million": 1.691,
          "population": 1691000,
          "post": 0,
          "treatment": 1,
          "treatxpost": 0
         },
         {
          "Year": 2006,
          "aqi": 8.39,
          "cost": 12.82,
          "county": "Santa Clara",
          "electricity": 16058.13,
          "electricity_pc": 9396.214160327676,
          "gas": 485.145,
          "gas_pc": 283.87653598595665,
          "pop_million": 1.709,
          "population": 1709000,
          "post": 0,
          "treatment": 1,
          "treatxpost": 0
         },
         {
          "Year": 2007,
          "aqi": 7.95,
          "cost": 12.8,
          "county": "Santa Clara",
          "electricity": 16459.77,
          "electricity_pc": 9497.847663012117,
          "gas": 472.156,
          "gas_pc": 272.45008655510674,
          "pop_million": 1.733,
          "population": 1733000,
          "post": 0,
          "treatment": 1,
          "treatxpost": 0
         },
         {
          "Year": 2008,
          "aqi": 7.83,
          "cost": 12.49,
          "county": "Santa Clara",
          "electricity": 16733.2,
          "electricity_pc": 9480.566572237962,
          "gas": 473.171,
          "gas_pc": 268.085552407932,
          "pop_million": 1.765,
          "population": 1765000,
          "post": 1,
          "treatment": 1,
          "treatxpost": 1
         },
         {
          "Year": 2009,
          "aqi": 6.86,
          "cost": 13.24,
          "county": "Santa Clara",
          "electricity": 16564.91,
          "electricity_pc": 9243.81138392857,
          "gas": 461.89,
          "gas_pc": 257.75111607142856,
          "pop_million": 1.792,
          "population": 1792000,
          "post": 1,
          "treatment": 1,
          "treatxpost": 1
         },
         {
          "Year": 2010,
          "aqi": 5.95,
          "cost": 13.01,
          "county": "Santa Clara",
          "electricity": 16271.12,
          "electricity_pc": 9110.36954087346,
          "gas": 457.56199999999995,
          "gas_pc": 256.1937290033594,
          "pop_million": 1.786,
          "population": 1786000,
          "post": 1,
          "treatment": 1,
          "treatxpost": 1
         },
         {
          "Year": 2011,
          "aqi": 7.04,
          "cost": 13.05,
          "county": "Santa Clara",
          "electricity": 16553.28,
          "electricity_pc": 9135.364238410595,
          "gas": 471.69800000000004,
          "gas_pc": 260.31898454746135,
          "pop_million": 1.812,
          "population": 1812000,
          "post": 1,
          "treatment": 1,
          "treatxpost": 1
         },
         {
          "Year": 2012,
          "aqi": 6.73,
          "cost": 13.53,
          "county": "Santa Clara",
          "electricity": 16507.68,
          "electricity_pc": 8981.32752992383,
          "gas": 454.57800000000003,
          "gas_pc": 247.32208922742112,
          "pop_million": 1.838,
          "population": 1838000,
          "post": 1,
          "treatment": 1,
          "treatxpost": 1
         },
         {
          "Year": 2013,
          "aqi": 7.59,
          "cost": 14.3,
          "county": "Santa Clara",
          "electricity": 16578.86,
          "electricity_pc": 8884.70525187567,
          "gas": 465.918,
          "gas_pc": 249.68810289389066,
          "pop_million": 1.866,
          "population": 1866000,
          "post": 1,
          "treatment": 1,
          "treatxpost": 1
         },
         {
          "Year": 2003,
          "aqi": 21.62,
          "cost": 5.86,
          "county": "King",
          "electricity": 19342.69,
          "electricity_pc": 10946.627051499718,
          "gas": 600.143,
          "gas_pc": 339.6395019807584,
          "pop_million": 1.767,
          "population": 1767000,
          "post": 0,
          "treatment": 0,
          "treatxpost": 0
         },
         {
          "Year": 2004,
          "aqi": 19.42,
          "cost": 5.8,
          "county": "King",
          "electricity": 19518.533,
          "electricity_pc": 10971.631815626757,
          "gas": 591.114,
          "gas_pc": 332.27318718381116,
          "pop_million": 1.779,
          "population": 1779000,
          "post": 0,
          "treatment": 0,
          "treatxpost": 0
         },
         {
          "Year": 2005,
          "aqi": 19.45,
          "cost": 5.87,
          "county": "King",
          "electricity": 19928.832,
          "electricity_pc": 11071.573333333332,
          "gas": 602.144,
          "gas_pc": 334.52444444444444,
          "pop_million": 1.8,
          "population": 1800000,
          "post": 0,
          "treatment": 0,
          "treatxpost": 0
         },
         {
          "Year": 2006,
          "aqi": 13.67,
          "cost": 6.14,
          "county": "King",
          "electricity": 20514.974,
          "electricity_pc": 11222.633479212252,
          "gas": 620.148,
          "gas_pc": 339.24945295404814,
          "pop_million": 1.828,
          "population": 1828000,
          "post": 0,
          "treatment": 0,
          "treatxpost": 0
         },
         {
          "Year": 2007,
          "aqi": 10.62,
          "cost": 6.37,
          "county": "King",
          "electricity": 20925.273999999998,
          "electricity_pc": 11292.646519158121,
          "gas": 648.156,
          "gas_pc": 349.7873718294657,
          "pop_million": 1.853,
          "population": 1853000,
          "post": 0,
          "treatment": 0,
          "treatxpost": 0
         },
         {
          "Year": 2008,
          "aqi": 9.45,
          "cost": 6.55,
          "county": "King",
          "electricity": 21247.652000000002,
          "electricity_pc": 11295.934077618289,
          "gas": 671.1610000000001,
          "gas_pc": 356.81073896863376,
          "pop_million": 1.881,
          "population": 1881000,
          "post": 1,
          "treatment": 0,
          "treatxpost": 0
         },
         {
          "Year": 2009,
          "aqi": 8.27,
          "cost": 6.59,
          "county": "King",
          "electricity": 21189.037999999997,
          "electricity_pc": 11047.465067778936,
          "gas": 656.1569999999999,
          "gas_pc": 342.1047966631908,
          "pop_million": 1.918,
          "population": 1918000,
          "post": 1,
          "treatment": 0,
          "treatxpost": 0
         },
         {
          "Year": 2010,
          "aqi": 3.41,
          "cost": 6.66,
          "county": "King",
          "electricity": 21385.092999999997,
          "electricity_pc": 11034.61971104231,
          "gas": 651.934,
          "gas_pc": 336.3952528379773,
          "pop_million": 1.938,
          "population": 1938000,
          "post": 1,
          "treatment": 0,
          "treatxpost": 0
         },
         {
          "Year": 2011,
          "aqi": 3.43,
          "cost": 6.78,
          "county": "King",
          "electricity": 21409.691000000003,
          "electricity_pc": 10845.841438703143,
          "gas": 641.754,
          "gas_pc": 325.1033434650456,
          "pop_million": 1.974,
          "population": 1974000,
          "post": 1,
          "treatment": 0,
          "treatxpost": 0
         },
         {
          "Year": 2012,
          "aqi": 3.18,
          "cost": 6.94,
          "county": "King",
          "electricity": 21398.477000000003,
          "electricity_pc": 10640.714569865739,
          "gas": 673.153,
          "gas_pc": 334.73545499751367,
          "pop_million": 2.011,
          "population": 2011000,
          "post": 1,
          "treatment": 0,
          "treatxpost": 0
         },
         {
          "Year": 2013,
          "aqi": 3.41,
          "cost": 7.09,
          "county": "King",
          "electricity": 21463.55,
          "electricity_pc": 10485.368832437713,
          "gas": 670.645,
          "gas_pc": 327.6233512457254,
          "pop_million": 2.047,
          "population": 2047000,
          "post": 1,
          "treatment": 0,
          "treatxpost": 0
         }
        ]
       },
       "encoding": {
        "color": {
         "condition": {
          "field": "county",
          "selection": "selector021",
          "type": "nominal"
         },
         "value": "lightgray"
        },
        "x": {
         "field": "Year",
         "type": "nominal"
        },
        "y": {
         "field": "cost",
         "type": "quantitative"
        }
       },
       "mark": "line",
       "selection": {
        "selector021": {
         "type": "interval"
        },
        "selector025": {
         "bind": "scales",
         "encodings": [
          "x",
          "y"
         ],
         "type": "interval"
        }
       },
       "width": 400
      },
      "image/png": "[encoded data removed]",
      "text/plain": [
       "<VegaLite 3 object>\n",
       "\n",
       "If you see this message, it means the renderer has not been properly enabled\n",
       "for the frontend that you are using. For more information, see\n",
       "https://altair-viz.github.io/user_guide/troubleshooting.html\n"
      ]
     },
     "execution_count": 79,
     "metadata": {},
     "output_type": "execute_result"
    }
   ],
   "source": [
    "points = alt.Chart(df).mark_line().properties(width=400).encode(\n",
    "    x='Year:N',\n",
    "    y='cost:Q',\n",
    "    color=alt.condition(brush, 'county:N', alt.value('lightgray'))\n",
    ").add_selection(\n",
    "    brush\n",
    ").interactive()\n",
    "\n",
    "points"
   ]
  },
  {
   "cell_type": "markdown",
   "metadata": {},
   "source": [
    "In this figure we see again that King county is not an appropriate counter factual for Santa Clara. Upon further research it was found that the majority of Washington's energy was produced from natural gas, whereas California relies more heavily on natural gas - this may explain the fluctuations in prices in Santa Clara's prices for energy compared to the relatively consistant prices in King county.\n",
    "The higher prices in Santa Clara may also explain the relatively small amount of electricity and gas consumed there compared to King county."
   ]
  },
  {
   "cell_type": "markdown",
   "metadata": {},
   "source": [
    "# Conclusion"
   ]
  },
  {
   "cell_type": "markdown",
   "metadata": {},
   "source": [
    "Across these models it became increasingly clear that Seattle was not fit to act as a counterfactual for San Jose for various reasons. Additonally, chagnes in all the factors described above may not necessarily be the result of the carbon tax given many external forces.\n",
    "\n",
    "A caveat discovered in this analysis is the comparison of AQI between two locations. Considering weather and geography it could be difficult to measure polutants based soley on air quality. Los Angeles for example emits a great amount of pollutants but much of it is blown into the southern San Joaquin Vally by coastal winds. Below is a plot that renforces the idea that energy usage and AQI have a loose relationship at best. "
   ]
  },
  {
   "cell_type": "code",
   "execution_count": 152,
   "metadata": {
    "collapsed": true,
    "jupyter": {
     "outputs_hidden": true,
     "source_hidden": true
    }
   },
   "outputs": [
    {
     "data": {
      "text/html": [
       "<div>\n",
       "<style scoped>\n",
       "    .dataframe tbody tr th:only-of-type {\n",
       "        vertical-align: middle;\n",
       "    }\n",
       "\n",
       "    .dataframe tbody tr th {\n",
       "        vertical-align: top;\n",
       "    }\n",
       "\n",
       "    .dataframe thead th {\n",
       "        text-align: right;\n",
       "    }\n",
       "</style>\n",
       "<table border=\"1\" class=\"dataframe\">\n",
       "  <thead>\n",
       "    <tr style=\"text-align: right;\">\n",
       "      <th></th>\n",
       "      <th>state</th>\n",
       "      <th>bill</th>\n",
       "      <th>usage</th>\n",
       "      <th>population</th>\n",
       "      <th>aqi</th>\n",
       "    </tr>\n",
       "  </thead>\n",
       "  <tbody>\n",
       "    <tr>\n",
       "      <th>0</th>\n",
       "      <td>Alaska</td>\n",
       "      <td>195.10</td>\n",
       "      <td>822</td>\n",
       "      <td>710231</td>\n",
       "      <td>29.1</td>\n",
       "    </tr>\n",
       "    <tr>\n",
       "      <th>1</th>\n",
       "      <td>Alabama</td>\n",
       "      <td>106.29</td>\n",
       "      <td>390</td>\n",
       "      <td>4779736</td>\n",
       "      <td>46.6</td>\n",
       "    </tr>\n",
       "    <tr>\n",
       "      <th>2</th>\n",
       "      <td>Arkansas</td>\n",
       "      <td>83.42</td>\n",
       "      <td>352</td>\n",
       "      <td>6392017</td>\n",
       "      <td>45.4</td>\n",
       "    </tr>\n",
       "    <tr>\n",
       "      <th>3</th>\n",
       "      <td>Arizona</td>\n",
       "      <td>109.52</td>\n",
       "      <td>209</td>\n",
       "      <td>2915918</td>\n",
       "      <td>43.1</td>\n",
       "    </tr>\n",
       "    <tr>\n",
       "      <th>4</th>\n",
       "      <td>California</td>\n",
       "      <td>164.51</td>\n",
       "      <td>200</td>\n",
       "      <td>37253956</td>\n",
       "      <td>46.0</td>\n",
       "    </tr>\n",
       "  </tbody>\n",
       "</table>\n",
       "</div>"
      ],
      "text/plain": [
       "        state    bill  usage  population   aqi\n",
       "0      Alaska  195.10    822      710231  29.1\n",
       "1     Alabama  106.29    390     4779736  46.6\n",
       "2    Arkansas   83.42    352     6392017  45.4\n",
       "3     Arizona  109.52    209     2915918  43.1\n",
       "4  California  164.51    200    37253956  46.0"
      ]
     },
     "execution_count": 152,
     "metadata": {},
     "output_type": "execute_result"
    }
   ],
   "source": [
    "df2 = pd.read_csv(\"/Users/chandlerfahr/Desktop/conclusion.csv\")\n",
    "df2.head()"
   ]
  },
  {
   "cell_type": "code",
   "execution_count": 156,
   "metadata": {
    "jupyter": {
     "source_hidden": true
    }
   },
   "outputs": [
    {
     "data": {
      "application/vnd.vegalite.v3+json": {
       "$schema": "https://vega.github.io/schema/vega-lite/v3.4.0.json",
       "config": {
        "mark": {
         "tooltip": null
        },
        "view": {
         "height": 300,
         "width": 400
        }
       },
       "data": {
        "name": "data-871a608704c872c41d5500c50e9a1b35"
       },
       "datasets": {
        "data-871a608704c872c41d5500c50e9a1b35": [
         {
          "aqi": 29.1,
          "bill": 195.1,
          "population": 710231,
          "state": "Alaska",
          "usage": 822
         },
         {
          "aqi": 46.6,
          "bill": 106.29,
          "population": 4779736,
          "state": "Alabama",
          "usage": 390
         },
         {
          "aqi": 45.4,
          "bill": 83.42,
          "population": 6392017,
          "state": "Arkansas",
          "usage": 352
         },
         {
          "aqi": 43.1,
          "bill": 109.52,
          "population": 2915918,
          "state": "Arizona",
          "usage": 209
         },
         {
          "aqi": 46,
          "bill": 164.51,
          "population": 37253956,
          "state": "California",
          "usage": 200
         },
         {
          "aqi": 47.1,
          "bill": 106.65,
          "population": 5029196,
          "state": "Colorado",
          "usage": 261
         },
         {
          "aqi": 45,
          "bill": 192.94,
          "population": 3574097,
          "state": "Connecticut",
          "usage": 203
         },
         {
          "aqi": 46.4,
          "bill": 116.61,
          "population": 897934,
          "state": "District Of Columbia",
          "usage": 241
         },
         {
          "aqi": 46.8,
          "bill": 109.88,
          "population": 601723,
          "state": "Delaware",
          "usage": 282
         },
         {
          "aqi": 38.9,
          "bill": 107.55,
          "population": 18801310,
          "state": "Florida",
          "usage": 201
         },
         {
          "aqi": 48.2,
          "bill": 95.98,
          "population": 9687653,
          "state": "Georgia",
          "usage": 269
         },
         {
          "aqi": 21.2,
          "bill": 287.76,
          "population": 1360301,
          "state": "Hawaii",
          "usage": 199
         },
         {
          "aqi": 44.3,
          "bill": 102.62,
          "population": 1567582,
          "state": "Iowa",
          "usage": 496
         },
         {
          "aqi": 43.6,
          "bill": 88.18,
          "population": 12830632,
          "state": "Idaho",
          "usage": 322
         },
         {
          "aqi": 47.5,
          "bill": 109.34,
          "population": 6483802,
          "state": "Illinois",
          "usage": 303
         },
         {
          "aqi": 37.6,
          "bill": 106.47,
          "population": 3046355,
          "state": "Indiana",
          "usage": 406
         },
         {
          "aqi": 42.8,
          "bill": 92.3,
          "population": 2853118,
          "state": "Kansas",
          "usage": 369
         },
         {
          "aqi": 46.1,
          "bill": 91.58,
          "population": 4339367,
          "state": "Kentucky",
          "usage": 372
         },
         {
          "aqi": 40.4,
          "bill": 79.29,
          "population": 4533372,
          "state": "Louisiana",
          "usage": 960
         },
         {
          "aqi": 36.5,
          "bill": 201.91,
          "population": 1328361,
          "state": "Massachusetts",
          "usage": 208
         },
         {
          "aqi": 47,
          "bill": 117.24,
          "population": 5773552,
          "state": "Maryland",
          "usage": 218
         },
         {
          "aqi": 41.4,
          "bill": 154.82,
          "population": 6547629,
          "state": "Maine",
          "usage": 294
         },
         {
          "aqi": 42.5,
          "bill": 134.55,
          "population": 9883640,
          "state": "Michigan",
          "usage": 278
         },
         {
          "aqi": 38.3,
          "bill": 114.73,
          "population": 5303925,
          "state": "Minnesota",
          "usage": 329
         },
         {
          "aqi": 43.7,
          "bill": 83.24,
          "population": 2967297,
          "state": "Missouri",
          "usage": 283
         },
         {
          "aqi": 44,
          "bill": 98.22,
          "population": 5988927,
          "state": "Mississippi",
          "usage": 394
         },
         {
          "aqi": 39.6,
          "bill": 97.15,
          "population": 989415,
          "state": "Montana",
          "usage": 399
         },
         {
          "aqi": 37,
          "bill": 98.58,
          "population": 1826341,
          "state": "North Carolina",
          "usage": 244
         },
         {
          "aqi": 42.1,
          "bill": 82.25,
          "population": 2700551,
          "state": "North Dakota",
          "usage": 836
         },
         {
          "aqi": 44.1,
          "bill": 86.11,
          "population": 1316470,
          "state": "Nebraska",
          "usage": 457
         },
         {
          "aqi": 42.1,
          "bill": 179.04,
          "population": 8791894,
          "state": "New Hampshire",
          "usage": 235
         },
         {
          "aqi": 40.4,
          "bill": 141.01,
          "population": 2059179,
          "state": "New Jersey",
          "usage": 240
         },
         {
          "aqi": 46.5,
          "bill": 109.52,
          "population": 19378102,
          "state": "New Mexico",
          "usage": 327
         },
         {
          "aqi": 37,
          "bill": 105.76,
          "population": 9535483,
          "state": "Nevada",
          "usage": 238
         },
         {
          "aqi": 48.2,
          "bill": 154.91,
          "population": 672591,
          "state": "New York",
          "usage": 188
         },
         {
          "aqi": 43.5,
          "bill": 107.46,
          "population": 11536504,
          "state": "Ohio",
          "usage": 312
         },
         {
          "aqi": 36.1,
          "bill": 78.94,
          "population": 3751351,
          "state": "Oklahoma",
          "usage": 418
         },
         {
          "aqi": 45.6,
          "bill": 95.35,
          "population": 3831074,
          "state": "Oregon",
          "usage": 249
         },
         {
          "aqi": 43.7,
          "bill": 112.39,
          "population": 12702379,
          "state": "Pennsylvania",
          "usage": 298
         },
         {
          "aqi": 44.8,
          "bill": 203.62,
          "population": 1052567,
          "state": "Rhode Island",
          "usage": 174
         },
         {
          "aqi": 39.6,
          "bill": 106.65,
          "population": 4625364,
          "state": "South Carolina",
          "usage": 327
         },
         {
          "aqi": 47.5,
          "bill": 94.81,
          "population": 814180,
          "state": "South Dakota",
          "usage": 441
         },
         {
          "aqi": 41,
          "bill": 96.7,
          "population": 6346105,
          "state": "Tennessee",
          "usage": 323
         },
         {
          "aqi": 51.2,
          "bill": 104.5,
          "population": 25145561,
          "state": "Texas",
          "usage": 472
         },
         {
          "aqi": 38.5,
          "bill": 89.79,
          "population": 2763885,
          "state": "Utah",
          "usage": 267
         },
         {
          "aqi": 45,
          "bill": 102.26,
          "population": 625741,
          "state": "Virginia",
          "usage": 272
         },
         {
          "aqi": 33.5,
          "bill": 150.07,
          "population": 8001024,
          "state": "Vermont",
          "usage": 216
         },
         {
          "aqi": 47.6,
          "bill": 83.51,
          "population": 6724540,
          "state": "Washington",
          "usage": 282
         },
         {
          "aqi": 39.5,
          "bill": 125.67,
          "population": 1852994,
          "state": "Wisconsin",
          "usage": 312
         },
         {
          "aqi": 45,
          "bill": 87.19,
          "population": 5686986,
          "state": "West Virginia",
          "usage": 416
         },
         {
          "aqi": 44.6,
          "bill": 94.72,
          "population": 563626,
          "state": "Wyoming",
          "usage": 885
         }
        ]
       },
       "encoding": {
        "color": {
         "field": "state",
         "legend": null,
         "type": "nominal"
        },
        "opacity": {
         "value": 0.5
        },
        "size": {
         "field": "population",
         "type": "quantitative"
        },
        "tooltip": [
         {
          "field": "state",
          "type": "nominal"
         },
         {
          "field": "population",
          "type": "quantitative"
         },
         {
          "field": "bill",
          "type": "quantitative"
         },
         {
          "field": "usage",
          "type": "quantitative"
         }
        ],
        "x": {
         "field": "aqi",
         "scale": {
          "zero": false
         },
         "title": "Average Monthly Power Bill",
         "type": "quantitative"
        },
        "y": {
         "field": "usage",
         "scale": {
          "zero": false
         },
         "title": "Average AQI",
         "type": "quantitative"
        }
       },
       "mark": {
        "filled": true,
        "type": "point"
       },
       "selection": {
        "selector064": {
         "bind": "scales",
         "encodings": [
          "x",
          "y"
         ],
         "type": "interval"
        }
       }
      },
      "image/png": "[encoded data removed]",
      "text/plain": [
       "<VegaLite 3 object>\n",
       "\n",
       "If you see this message, it means the renderer has not been properly enabled\n",
       "for the frontend that you are using. For more information, see\n",
       "https://altair-viz.github.io/user_guide/troubleshooting.html\n"
      ]
     },
     "execution_count": 156,
     "metadata": {},
     "output_type": "execute_result"
    }
   ],
   "source": [
    "alt.Chart(df2).mark_point(filled=True).encode(\n",
    "    alt.X('aqi:Q', scale=alt.Scale(zero=False), title=\"Average Monthly Power Bill\"),\n",
    "    alt.Y('usage:Q', scale=alt.Scale(zero=False), title=\"Average AQI\"),\n",
    "    alt.Size('population:Q'),\n",
    "    alt.Color('state:N', legend=None),\n",
    "    alt.OpacityValue(0.5),\n",
    "    tooltip = [alt.Tooltip('state:N'),\n",
    "               alt.Tooltip('population:Q'),\n",
    "               alt.Tooltip('bill:Q'),\n",
    "               alt.Tooltip('usage:Q')\n",
    "              ]\n",
    ").interactive()"
   ]
  },
  {
   "cell_type": "markdown",
   "metadata": {},
   "source": [
    "Lastly, it is important to note that despite a delay in charges, energy prices do effect usage as seen in the plot below. Carbon taxs will surely be passed onto consumers, reducing consumption, and ultimatly moving us toward a more sustainable future. A nationwide carbon tax will not only reduce emmissions from large power an oil companies, but also being necessary change to consumers and other businesses. "
   ]
  },
  {
   "cell_type": "code",
   "execution_count": 149,
   "metadata": {
    "jupyter": {
     "source_hidden": true
    }
   },
   "outputs": [
    {
     "data": {
      "application/vnd.vegalite.v3+json": {
       "$schema": "https://vega.github.io/schema/vega-lite/v3.4.0.json",
       "config": {
        "mark": {
         "tooltip": null
        },
        "view": {
         "height": 300,
         "width": 400
        }
       },
       "data": {
        "name": "data-871a608704c872c41d5500c50e9a1b35"
       },
       "datasets": {
        "data-871a608704c872c41d5500c50e9a1b35": [
         {
          "aqi": 29.1,
          "bill": 195.1,
          "population": 710231,
          "state": "Alaska",
          "usage": 822
         },
         {
          "aqi": 46.6,
          "bill": 106.29,
          "population": 4779736,
          "state": "Alabama",
          "usage": 390
         },
         {
          "aqi": 45.4,
          "bill": 83.42,
          "population": 6392017,
          "state": "Arkansas",
          "usage": 352
         },
         {
          "aqi": 43.1,
          "bill": 109.52,
          "population": 2915918,
          "state": "Arizona",
          "usage": 209
         },
         {
          "aqi": 46,
          "bill": 164.51,
          "population": 37253956,
          "state": "California",
          "usage": 200
         },
         {
          "aqi": 47.1,
          "bill": 106.65,
          "population": 5029196,
          "state": "Colorado",
          "usage": 261
         },
         {
          "aqi": 45,
          "bill": 192.94,
          "population": 3574097,
          "state": "Connecticut",
          "usage": 203
         },
         {
          "aqi": 46.4,
          "bill": 116.61,
          "population": 897934,
          "state": "District Of Columbia",
          "usage": 241
         },
         {
          "aqi": 46.8,
          "bill": 109.88,
          "population": 601723,
          "state": "Delaware",
          "usage": 282
         },
         {
          "aqi": 38.9,
          "bill": 107.55,
          "population": 18801310,
          "state": "Florida",
          "usage": 201
         },
         {
          "aqi": 48.2,
          "bill": 95.98,
          "population": 9687653,
          "state": "Georgia",
          "usage": 269
         },
         {
          "aqi": 21.2,
          "bill": 287.76,
          "population": 1360301,
          "state": "Hawaii",
          "usage": 199
         },
         {
          "aqi": 44.3,
          "bill": 102.62,
          "population": 1567582,
          "state": "Iowa",
          "usage": 496
         },
         {
          "aqi": 43.6,
          "bill": 88.18,
          "population": 12830632,
          "state": "Idaho",
          "usage": 322
         },
         {
          "aqi": 47.5,
          "bill": 109.34,
          "population": 6483802,
          "state": "Illinois",
          "usage": 303
         },
         {
          "aqi": 37.6,
          "bill": 106.47,
          "population": 3046355,
          "state": "Indiana",
          "usage": 406
         },
         {
          "aqi": 42.8,
          "bill": 92.3,
          "population": 2853118,
          "state": "Kansas",
          "usage": 369
         },
         {
          "aqi": 46.1,
          "bill": 91.58,
          "population": 4339367,
          "state": "Kentucky",
          "usage": 372
         },
         {
          "aqi": 40.4,
          "bill": 79.29,
          "population": 4533372,
          "state": "Louisiana",
          "usage": 960
         },
         {
          "aqi": 36.5,
          "bill": 201.91,
          "population": 1328361,
          "state": "Massachusetts",
          "usage": 208
         },
         {
          "aqi": 47,
          "bill": 117.24,
          "population": 5773552,
          "state": "Maryland",
          "usage": 218
         },
         {
          "aqi": 41.4,
          "bill": 154.82,
          "population": 6547629,
          "state": "Maine",
          "usage": 294
         },
         {
          "aqi": 42.5,
          "bill": 134.55,
          "population": 9883640,
          "state": "Michigan",
          "usage": 278
         },
         {
          "aqi": 38.3,
          "bill": 114.73,
          "population": 5303925,
          "state": "Minnesota",
          "usage": 329
         },
         {
          "aqi": 43.7,
          "bill": 83.24,
          "population": 2967297,
          "state": "Missouri",
          "usage": 283
         },
         {
          "aqi": 44,
          "bill": 98.22,
          "population": 5988927,
          "state": "Mississippi",
          "usage": 394
         },
         {
          "aqi": 39.6,
          "bill": 97.15,
          "population": 989415,
          "state": "Montana",
          "usage": 399
         },
         {
          "aqi": 37,
          "bill": 98.58,
          "population": 1826341,
          "state": "North Carolina",
          "usage": 244
         },
         {
          "aqi": 42.1,
          "bill": 82.25,
          "population": 2700551,
          "state": "North Dakota",
          "usage": 836
         },
         {
          "aqi": 44.1,
          "bill": 86.11,
          "population": 1316470,
          "state": "Nebraska",
          "usage": 457
         },
         {
          "aqi": 42.1,
          "bill": 179.04,
          "population": 8791894,
          "state": "New Hampshire",
          "usage": 235
         },
         {
          "aqi": 40.4,
          "bill": 141.01,
          "population": 2059179,
          "state": "New Jersey",
          "usage": 240
         },
         {
          "aqi": 46.5,
          "bill": 109.52,
          "population": 19378102,
          "state": "New Mexico",
          "usage": 327
         },
         {
          "aqi": 37,
          "bill": 105.76,
          "population": 9535483,
          "state": "Nevada",
          "usage": 238
         },
         {
          "aqi": 48.2,
          "bill": 154.91,
          "population": 672591,
          "state": "New York",
          "usage": 188
         },
         {
          "aqi": 43.5,
          "bill": 107.46,
          "population": 11536504,
          "state": "Ohio",
          "usage": 312
         },
         {
          "aqi": 36.1,
          "bill": 78.94,
          "population": 3751351,
          "state": "Oklahoma",
          "usage": 418
         },
         {
          "aqi": 45.6,
          "bill": 95.35,
          "population": 3831074,
          "state": "Oregon",
          "usage": 249
         },
         {
          "aqi": 43.7,
          "bill": 112.39,
          "population": 12702379,
          "state": "Pennsylvania",
          "usage": 298
         },
         {
          "aqi": 44.8,
          "bill": 203.62,
          "population": 1052567,
          "state": "Rhode Island",
          "usage": 174
         },
         {
          "aqi": 39.6,
          "bill": 106.65,
          "population": 4625364,
          "state": "South Carolina",
          "usage": 327
         },
         {
          "aqi": 47.5,
          "bill": 94.81,
          "population": 814180,
          "state": "South Dakota",
          "usage": 441
         },
         {
          "aqi": 41,
          "bill": 96.7,
          "population": 6346105,
          "state": "Tennessee",
          "usage": 323
         },
         {
          "aqi": 51.2,
          "bill": 104.5,
          "population": 25145561,
          "state": "Texas",
          "usage": 472
         },
         {
          "aqi": 38.5,
          "bill": 89.79,
          "population": 2763885,
          "state": "Utah",
          "usage": 267
         },
         {
          "aqi": 45,
          "bill": 102.26,
          "population": 625741,
          "state": "Virginia",
          "usage": 272
         },
         {
          "aqi": 33.5,
          "bill": 150.07,
          "population": 8001024,
          "state": "Vermont",
          "usage": 216
         },
         {
          "aqi": 47.6,
          "bill": 83.51,
          "population": 6724540,
          "state": "Washington",
          "usage": 282
         },
         {
          "aqi": 39.5,
          "bill": 125.67,
          "population": 1852994,
          "state": "Wisconsin",
          "usage": 312
         },
         {
          "aqi": 45,
          "bill": 87.19,
          "population": 5686986,
          "state": "West Virginia",
          "usage": 416
         },
         {
          "aqi": 44.6,
          "bill": 94.72,
          "population": 563626,
          "state": "Wyoming",
          "usage": 885
         }
        ]
       },
       "encoding": {
        "color": {
         "field": "state",
         "legend": null,
         "type": "nominal"
        },
        "opacity": {
         "value": 0.5
        },
        "size": {
         "field": "population",
         "type": "quantitative"
        },
        "tooltip": [
         {
          "field": "state",
          "type": "nominal"
         },
         {
          "field": "population",
          "type": "quantitative"
         },
         {
          "field": "bill",
          "type": "quantitative"
         },
         {
          "field": "usage",
          "type": "quantitative"
         }
        ],
        "x": {
         "field": "bill",
         "scale": {
          "zero": false
         },
         "title": "Average Monthly Power Bill",
         "type": "quantitative"
        },
        "y": {
         "field": "usage",
         "scale": {
          "zero": false
         },
         "title": "Energy Usage per Capita (Million Btu)",
         "type": "quantitative"
        }
       },
       "mark": {
        "filled": true,
        "type": "point"
       },
       "selection": {
        "selector059": {
         "bind": "scales",
         "encodings": [
          "x",
          "y"
         ],
         "type": "interval"
        }
       }
      },
      "image/png": "[encoded data removed]",
      "text/plain": [
       "<VegaLite 3 object>\n",
       "\n",
       "If you see this message, it means the renderer has not been properly enabled\n",
       "for the frontend that you are using. For more information, see\n",
       "https://altair-viz.github.io/user_guide/troubleshooting.html\n"
      ]
     },
     "execution_count": 149,
     "metadata": {},
     "output_type": "execute_result"
    }
   ],
   "source": [
    "alt.Chart(df2).mark_point(filled=True).encode(\n",
    "    alt.X('bill:Q', scale=alt.Scale(zero=False), title=\"Average Monthly Power Bill\"),\n",
    "    alt.Y('usage:Q', scale=alt.Scale(zero=False), title=\"Energy Usage per Capita (Million Btu)\"),\n",
    "    alt.Size('population:Q'),\n",
    "    alt.Color('state:N', legend=None),\n",
    "    alt.OpacityValue(0.5),\n",
    "    tooltip = [alt.Tooltip('state:N'),\n",
    "               alt.Tooltip('population:Q'),\n",
    "               alt.Tooltip('bill:Q'),\n",
    "               alt.Tooltip('usage:Q')\n",
    "              ]\n",
    ").interactive()"
   ]
  },
  {
   "cell_type": "markdown",
   "metadata": {},
   "source": [
    "# References"
   ]
  },
  {
   "cell_type": "markdown",
   "metadata": {},
   "source": [
    "#### 1) US Energy Information Administration: Independent Statistics & Analysis\n",
    "  2018, Electric Sales, Revenue, and Average Price: https://www.eia.gov/electricity/sales_revenue_price/index.php \\\n",
    "  2017, Total Energy Consumed per Capita: https://www.eia.gov/state/rankings/\n",
    "  \n",
    "#### 2) Environment + Energy Leader\n",
    "  Natsu, P. 2008, S.F. Bay Area Passes Carbon Tax: https://www.environmentalleader.com/2008/05/sf-bay-area-passes-carbon-tax/#:~:text=The%20San%20Francisco%20Bay%20Area,U.S.%2CThe%20Associated%20Press%20reports. \n",
    "\n",
    "#### 3) US Environmental Protection Agency\n",
    "   2018, Sources of Greenhouse Gas Emissions: https://www.epa.gov/ghgemissions/sources-greenhouse-gas-emissions#Electricity_ref \\\n",
    "   2020, Air Quality Index Daily Values Report: https://www.epa.gov/outdoor-air-quality-data/air-quality-index-daily-values-report\n",
    "   \n",
    "#### 4) King County: Office of the Executive\n",
    "   2018, Energy Consumption: https://www.kingcounty.gov/depts/executive/performance-strategy-budget/regional-planning/benchmark-program/Environment/EN11_EnergyConsumption.aspx\n",
    "   \n",
    "#### 5) California Energy Commission\n",
    "   2018, Gas Consumption by County: https://ecdms.energy.ca.gov/gasbycounty.aspx \\\n",
    "   2018, Electricity Consumption by County: https://ecdms.energy.ca.gov/elecbycounty.aspx\n",
    "\n",
    "#### 6) Unitied States Census Bureau\n",
    "   2019, State Population Totals and Components of Change: 2010-2019: https://www.census.gov/data/tables/time-series/demo/popest/2010s-state-total.html#par_textimage_1574439295\n",
    "   "
   ]
  }
 ],
 "metadata": {
  "kernelspec": {
   "display_name": "Python 3",
   "language": "python",
   "name": "python3"
  },
  "language_info": {
   "codemirror_mode": {
    "name": "ipython",
    "version": 3
   },
   "file_extension": ".py",
   "mimetype": "text/x-python",
   "name": "python",
   "nbconvert_exporter": "python",
   "pygments_lexer": "ipython3",
   "version": "3.7.7"
  }
 },
 "nbformat": 4,
 "nbformat_minor": 4
}
